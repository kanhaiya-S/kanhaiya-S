{
  "cells": [
    {
      "cell_type": "markdown",
      "metadata": {
        "id": "view-in-github",
        "colab_type": "text"
      },
      "source": [
        "<a href=\"https://colab.research.google.com/github/kanhaiya-S/kanhaiya-S/blob/main/Estimation_of_obesity_level_116_kanhaiya.ipynb\" target=\"_parent\"><img src=\"https://colab.research.google.com/assets/colab-badge.svg\" alt=\"Open In Colab\"/></a>"
      ]
    },
    {
      "cell_type": "markdown",
      "id": "b9ab8580",
      "metadata": {
        "id": "b9ab8580"
      },
      "source": [
        "# Machine learning project :\n",
        "    Kanhaiya Sharma\n",
        "    11619011921\n",
        "    AI & DS\n",
        "\n",
        "## Estimation of obesity levels based on eating habits and physical condition\n",
        "\n"
      ]
    },
    {
      "cell_type": "markdown",
      "id": "238a6ff5",
      "metadata": {
        "id": "238a6ff5"
      },
      "source": [
        "Dataset link: https://archive.ics.uci.edu/dataset/544/estimation+of+obesity+levels+based+on+eating+habits+and+physical+condition\n",
        "\n",
        "references: https://www.sciencedirect.com/science/article/pii/S2352340919306985?via%3Dihub"
      ]
    },
    {
      "cell_type": "code",
      "execution_count": 147,
      "id": "4666ff09",
      "metadata": {
        "id": "4666ff09"
      },
      "outputs": [],
      "source": [
        "import numpy as np\n",
        "import pandas as pd\n",
        "import seaborn as sns\n",
        "import matplotlib.pyplot as plt"
      ]
    },
    {
      "cell_type": "code",
      "source": [
        "from google.colab import drive\n",
        "drive.mount('/content/drive')"
      ],
      "metadata": {
        "colab": {
          "base_uri": "https://localhost:8080/",
          "height": 0
        },
        "id": "e8oKDsPXlsns",
        "outputId": "9346cedc-5967-49f1-c6b1-d3012a571c2e"
      },
      "id": "e8oKDsPXlsns",
      "execution_count": 148,
      "outputs": [
        {
          "output_type": "stream",
          "name": "stdout",
          "text": [
            "Drive already mounted at /content/drive; to attempt to forcibly remount, call drive.mount(\"/content/drive\", force_remount=True).\n"
          ]
        }
      ]
    },
    {
      "cell_type": "code",
      "execution_count": 149,
      "id": "2cf1f1fc",
      "metadata": {
        "id": "2cf1f1fc"
      },
      "outputs": [],
      "source": [
        "# data = pd.read_csv(\"C:/Users/kanha/Downloads/ObesityDataSet_raw_and_data_sinthetic.csv\")\n",
        "data = pd.read_csv(\"/content/drive/MyDrive/PROJECTS/ML project/ObesityDataSet_raw_and_data_sinthetic.csv\")"
      ]
    },
    {
      "cell_type": "code",
      "execution_count": 150,
      "id": "0fcd6dec",
      "metadata": {
        "id": "0fcd6dec"
      },
      "outputs": [],
      "source": [
        "df = data.copy()"
      ]
    },
    {
      "cell_type": "code",
      "execution_count": 151,
      "id": "c3d60201",
      "metadata": {
        "id": "c3d60201",
        "outputId": "c8cb7182-4308-4390-b57a-b4abff30cb33",
        "colab": {
          "base_uri": "https://localhost:8080/",
          "height": 0
        }
      },
      "outputs": [
        {
          "output_type": "execute_result",
          "data": {
            "text/plain": [
              "(2111, 17)"
            ]
          },
          "metadata": {},
          "execution_count": 151
        }
      ],
      "source": [
        "df.shape"
      ]
    },
    {
      "cell_type": "code",
      "execution_count": 152,
      "id": "a1bef3c8",
      "metadata": {
        "id": "a1bef3c8",
        "outputId": "97b9d3e6-eff6-4d16-c7e6-5963d881eebf",
        "colab": {
          "base_uri": "https://localhost:8080/",
          "height": 206
        }
      },
      "outputs": [
        {
          "output_type": "execute_result",
          "data": {
            "text/plain": [
              "   Gender   Age  Height  Weight family_history_with_overweight FAVC  FCVC  \\\n",
              "0  Female  21.0    1.62    64.0                            yes   no   2.0   \n",
              "1  Female  21.0    1.52    56.0                            yes   no   3.0   \n",
              "2    Male  23.0    1.80    77.0                            yes   no   2.0   \n",
              "3    Male  27.0    1.80    87.0                             no   no   3.0   \n",
              "4    Male  22.0    1.78    89.8                             no   no   2.0   \n",
              "\n",
              "   NCP       CAEC SMOKE  CH2O  SCC  FAF  TUE        CALC  \\\n",
              "0  3.0  Sometimes    no   2.0   no  0.0  1.0          no   \n",
              "1  3.0  Sometimes   yes   3.0  yes  3.0  0.0   Sometimes   \n",
              "2  3.0  Sometimes    no   2.0   no  2.0  1.0  Frequently   \n",
              "3  3.0  Sometimes    no   2.0   no  2.0  0.0  Frequently   \n",
              "4  1.0  Sometimes    no   2.0   no  0.0  0.0   Sometimes   \n",
              "\n",
              "                  MTRANS           NObeyesdad  \n",
              "0  Public_Transportation        Normal_Weight  \n",
              "1  Public_Transportation        Normal_Weight  \n",
              "2  Public_Transportation        Normal_Weight  \n",
              "3                Walking   Overweight_Level_I  \n",
              "4  Public_Transportation  Overweight_Level_II  "
            ],
            "text/html": [
              "\n",
              "  <div id=\"df-24d072ef-c50e-46da-b532-f0648ea15b00\">\n",
              "    <div class=\"colab-df-container\">\n",
              "      <div>\n",
              "<style scoped>\n",
              "    .dataframe tbody tr th:only-of-type {\n",
              "        vertical-align: middle;\n",
              "    }\n",
              "\n",
              "    .dataframe tbody tr th {\n",
              "        vertical-align: top;\n",
              "    }\n",
              "\n",
              "    .dataframe thead th {\n",
              "        text-align: right;\n",
              "    }\n",
              "</style>\n",
              "<table border=\"1\" class=\"dataframe\">\n",
              "  <thead>\n",
              "    <tr style=\"text-align: right;\">\n",
              "      <th></th>\n",
              "      <th>Gender</th>\n",
              "      <th>Age</th>\n",
              "      <th>Height</th>\n",
              "      <th>Weight</th>\n",
              "      <th>family_history_with_overweight</th>\n",
              "      <th>FAVC</th>\n",
              "      <th>FCVC</th>\n",
              "      <th>NCP</th>\n",
              "      <th>CAEC</th>\n",
              "      <th>SMOKE</th>\n",
              "      <th>CH2O</th>\n",
              "      <th>SCC</th>\n",
              "      <th>FAF</th>\n",
              "      <th>TUE</th>\n",
              "      <th>CALC</th>\n",
              "      <th>MTRANS</th>\n",
              "      <th>NObeyesdad</th>\n",
              "    </tr>\n",
              "  </thead>\n",
              "  <tbody>\n",
              "    <tr>\n",
              "      <th>0</th>\n",
              "      <td>Female</td>\n",
              "      <td>21.0</td>\n",
              "      <td>1.62</td>\n",
              "      <td>64.0</td>\n",
              "      <td>yes</td>\n",
              "      <td>no</td>\n",
              "      <td>2.0</td>\n",
              "      <td>3.0</td>\n",
              "      <td>Sometimes</td>\n",
              "      <td>no</td>\n",
              "      <td>2.0</td>\n",
              "      <td>no</td>\n",
              "      <td>0.0</td>\n",
              "      <td>1.0</td>\n",
              "      <td>no</td>\n",
              "      <td>Public_Transportation</td>\n",
              "      <td>Normal_Weight</td>\n",
              "    </tr>\n",
              "    <tr>\n",
              "      <th>1</th>\n",
              "      <td>Female</td>\n",
              "      <td>21.0</td>\n",
              "      <td>1.52</td>\n",
              "      <td>56.0</td>\n",
              "      <td>yes</td>\n",
              "      <td>no</td>\n",
              "      <td>3.0</td>\n",
              "      <td>3.0</td>\n",
              "      <td>Sometimes</td>\n",
              "      <td>yes</td>\n",
              "      <td>3.0</td>\n",
              "      <td>yes</td>\n",
              "      <td>3.0</td>\n",
              "      <td>0.0</td>\n",
              "      <td>Sometimes</td>\n",
              "      <td>Public_Transportation</td>\n",
              "      <td>Normal_Weight</td>\n",
              "    </tr>\n",
              "    <tr>\n",
              "      <th>2</th>\n",
              "      <td>Male</td>\n",
              "      <td>23.0</td>\n",
              "      <td>1.80</td>\n",
              "      <td>77.0</td>\n",
              "      <td>yes</td>\n",
              "      <td>no</td>\n",
              "      <td>2.0</td>\n",
              "      <td>3.0</td>\n",
              "      <td>Sometimes</td>\n",
              "      <td>no</td>\n",
              "      <td>2.0</td>\n",
              "      <td>no</td>\n",
              "      <td>2.0</td>\n",
              "      <td>1.0</td>\n",
              "      <td>Frequently</td>\n",
              "      <td>Public_Transportation</td>\n",
              "      <td>Normal_Weight</td>\n",
              "    </tr>\n",
              "    <tr>\n",
              "      <th>3</th>\n",
              "      <td>Male</td>\n",
              "      <td>27.0</td>\n",
              "      <td>1.80</td>\n",
              "      <td>87.0</td>\n",
              "      <td>no</td>\n",
              "      <td>no</td>\n",
              "      <td>3.0</td>\n",
              "      <td>3.0</td>\n",
              "      <td>Sometimes</td>\n",
              "      <td>no</td>\n",
              "      <td>2.0</td>\n",
              "      <td>no</td>\n",
              "      <td>2.0</td>\n",
              "      <td>0.0</td>\n",
              "      <td>Frequently</td>\n",
              "      <td>Walking</td>\n",
              "      <td>Overweight_Level_I</td>\n",
              "    </tr>\n",
              "    <tr>\n",
              "      <th>4</th>\n",
              "      <td>Male</td>\n",
              "      <td>22.0</td>\n",
              "      <td>1.78</td>\n",
              "      <td>89.8</td>\n",
              "      <td>no</td>\n",
              "      <td>no</td>\n",
              "      <td>2.0</td>\n",
              "      <td>1.0</td>\n",
              "      <td>Sometimes</td>\n",
              "      <td>no</td>\n",
              "      <td>2.0</td>\n",
              "      <td>no</td>\n",
              "      <td>0.0</td>\n",
              "      <td>0.0</td>\n",
              "      <td>Sometimes</td>\n",
              "      <td>Public_Transportation</td>\n",
              "      <td>Overweight_Level_II</td>\n",
              "    </tr>\n",
              "  </tbody>\n",
              "</table>\n",
              "</div>\n",
              "      <button class=\"colab-df-convert\" onclick=\"convertToInteractive('df-24d072ef-c50e-46da-b532-f0648ea15b00')\"\n",
              "              title=\"Convert this dataframe to an interactive table.\"\n",
              "              style=\"display:none;\">\n",
              "        \n",
              "  <svg xmlns=\"http://www.w3.org/2000/svg\" height=\"24px\"viewBox=\"0 0 24 24\"\n",
              "       width=\"24px\">\n",
              "    <path d=\"M0 0h24v24H0V0z\" fill=\"none\"/>\n",
              "    <path d=\"M18.56 5.44l.94 2.06.94-2.06 2.06-.94-2.06-.94-.94-2.06-.94 2.06-2.06.94zm-11 1L8.5 8.5l.94-2.06 2.06-.94-2.06-.94L8.5 2.5l-.94 2.06-2.06.94zm10 10l.94 2.06.94-2.06 2.06-.94-2.06-.94-.94-2.06-.94 2.06-2.06.94z\"/><path d=\"M17.41 7.96l-1.37-1.37c-.4-.4-.92-.59-1.43-.59-.52 0-1.04.2-1.43.59L10.3 9.45l-7.72 7.72c-.78.78-.78 2.05 0 2.83L4 21.41c.39.39.9.59 1.41.59.51 0 1.02-.2 1.41-.59l7.78-7.78 2.81-2.81c.8-.78.8-2.07 0-2.86zM5.41 20L4 18.59l7.72-7.72 1.47 1.35L5.41 20z\"/>\n",
              "  </svg>\n",
              "      </button>\n",
              "      \n",
              "  <style>\n",
              "    .colab-df-container {\n",
              "      display:flex;\n",
              "      flex-wrap:wrap;\n",
              "      gap: 12px;\n",
              "    }\n",
              "\n",
              "    .colab-df-convert {\n",
              "      background-color: #E8F0FE;\n",
              "      border: none;\n",
              "      border-radius: 50%;\n",
              "      cursor: pointer;\n",
              "      display: none;\n",
              "      fill: #1967D2;\n",
              "      height: 32px;\n",
              "      padding: 0 0 0 0;\n",
              "      width: 32px;\n",
              "    }\n",
              "\n",
              "    .colab-df-convert:hover {\n",
              "      background-color: #E2EBFA;\n",
              "      box-shadow: 0px 1px 2px rgba(60, 64, 67, 0.3), 0px 1px 3px 1px rgba(60, 64, 67, 0.15);\n",
              "      fill: #174EA6;\n",
              "    }\n",
              "\n",
              "    [theme=dark] .colab-df-convert {\n",
              "      background-color: #3B4455;\n",
              "      fill: #D2E3FC;\n",
              "    }\n",
              "\n",
              "    [theme=dark] .colab-df-convert:hover {\n",
              "      background-color: #434B5C;\n",
              "      box-shadow: 0px 1px 3px 1px rgba(0, 0, 0, 0.15);\n",
              "      filter: drop-shadow(0px 1px 2px rgba(0, 0, 0, 0.3));\n",
              "      fill: #FFFFFF;\n",
              "    }\n",
              "  </style>\n",
              "\n",
              "      <script>\n",
              "        const buttonEl =\n",
              "          document.querySelector('#df-24d072ef-c50e-46da-b532-f0648ea15b00 button.colab-df-convert');\n",
              "        buttonEl.style.display =\n",
              "          google.colab.kernel.accessAllowed ? 'block' : 'none';\n",
              "\n",
              "        async function convertToInteractive(key) {\n",
              "          const element = document.querySelector('#df-24d072ef-c50e-46da-b532-f0648ea15b00');\n",
              "          const dataTable =\n",
              "            await google.colab.kernel.invokeFunction('convertToInteractive',\n",
              "                                                     [key], {});\n",
              "          if (!dataTable) return;\n",
              "\n",
              "          const docLinkHtml = 'Like what you see? Visit the ' +\n",
              "            '<a target=\"_blank\" href=https://colab.research.google.com/notebooks/data_table.ipynb>data table notebook</a>'\n",
              "            + ' to learn more about interactive tables.';\n",
              "          element.innerHTML = '';\n",
              "          dataTable['output_type'] = 'display_data';\n",
              "          await google.colab.output.renderOutput(dataTable, element);\n",
              "          const docLink = document.createElement('div');\n",
              "          docLink.innerHTML = docLinkHtml;\n",
              "          element.appendChild(docLink);\n",
              "        }\n",
              "      </script>\n",
              "    </div>\n",
              "  </div>\n",
              "  "
            ]
          },
          "metadata": {},
          "execution_count": 152
        }
      ],
      "source": [
        "df.head()"
      ]
    },
    {
      "cell_type": "code",
      "execution_count": 153,
      "id": "aa03c933",
      "metadata": {
        "id": "aa03c933",
        "outputId": "78620237-9d6a-41f6-b3be-ca9cc76966e3",
        "colab": {
          "base_uri": "https://localhost:8080/",
          "height": 270
        }
      },
      "outputs": [
        {
          "output_type": "execute_result",
          "data": {
            "text/plain": [
              "      Gender        Age    Height      Weight family_history_with_overweight  \\\n",
              "2106  Female  20.976842  1.710730  131.408528                            yes   \n",
              "2107  Female  21.982942  1.748584  133.742943                            yes   \n",
              "2108  Female  22.524036  1.752206  133.689352                            yes   \n",
              "2109  Female  24.361936  1.739450  133.346641                            yes   \n",
              "2110  Female  23.664709  1.738836  133.472641                            yes   \n",
              "\n",
              "     FAVC  FCVC  NCP       CAEC SMOKE      CH2O SCC       FAF       TUE  \\\n",
              "2106  yes   3.0  3.0  Sometimes    no  1.728139  no  1.676269  0.906247   \n",
              "2107  yes   3.0  3.0  Sometimes    no  2.005130  no  1.341390  0.599270   \n",
              "2108  yes   3.0  3.0  Sometimes    no  2.054193  no  1.414209  0.646288   \n",
              "2109  yes   3.0  3.0  Sometimes    no  2.852339  no  1.139107  0.586035   \n",
              "2110  yes   3.0  3.0  Sometimes    no  2.863513  no  1.026452  0.714137   \n",
              "\n",
              "           CALC                 MTRANS        NObeyesdad  \n",
              "2106  Sometimes  Public_Transportation  Obesity_Type_III  \n",
              "2107  Sometimes  Public_Transportation  Obesity_Type_III  \n",
              "2108  Sometimes  Public_Transportation  Obesity_Type_III  \n",
              "2109  Sometimes  Public_Transportation  Obesity_Type_III  \n",
              "2110  Sometimes  Public_Transportation  Obesity_Type_III  "
            ],
            "text/html": [
              "\n",
              "  <div id=\"df-7c335403-4635-48d2-ac88-9937ce61cd62\">\n",
              "    <div class=\"colab-df-container\">\n",
              "      <div>\n",
              "<style scoped>\n",
              "    .dataframe tbody tr th:only-of-type {\n",
              "        vertical-align: middle;\n",
              "    }\n",
              "\n",
              "    .dataframe tbody tr th {\n",
              "        vertical-align: top;\n",
              "    }\n",
              "\n",
              "    .dataframe thead th {\n",
              "        text-align: right;\n",
              "    }\n",
              "</style>\n",
              "<table border=\"1\" class=\"dataframe\">\n",
              "  <thead>\n",
              "    <tr style=\"text-align: right;\">\n",
              "      <th></th>\n",
              "      <th>Gender</th>\n",
              "      <th>Age</th>\n",
              "      <th>Height</th>\n",
              "      <th>Weight</th>\n",
              "      <th>family_history_with_overweight</th>\n",
              "      <th>FAVC</th>\n",
              "      <th>FCVC</th>\n",
              "      <th>NCP</th>\n",
              "      <th>CAEC</th>\n",
              "      <th>SMOKE</th>\n",
              "      <th>CH2O</th>\n",
              "      <th>SCC</th>\n",
              "      <th>FAF</th>\n",
              "      <th>TUE</th>\n",
              "      <th>CALC</th>\n",
              "      <th>MTRANS</th>\n",
              "      <th>NObeyesdad</th>\n",
              "    </tr>\n",
              "  </thead>\n",
              "  <tbody>\n",
              "    <tr>\n",
              "      <th>2106</th>\n",
              "      <td>Female</td>\n",
              "      <td>20.976842</td>\n",
              "      <td>1.710730</td>\n",
              "      <td>131.408528</td>\n",
              "      <td>yes</td>\n",
              "      <td>yes</td>\n",
              "      <td>3.0</td>\n",
              "      <td>3.0</td>\n",
              "      <td>Sometimes</td>\n",
              "      <td>no</td>\n",
              "      <td>1.728139</td>\n",
              "      <td>no</td>\n",
              "      <td>1.676269</td>\n",
              "      <td>0.906247</td>\n",
              "      <td>Sometimes</td>\n",
              "      <td>Public_Transportation</td>\n",
              "      <td>Obesity_Type_III</td>\n",
              "    </tr>\n",
              "    <tr>\n",
              "      <th>2107</th>\n",
              "      <td>Female</td>\n",
              "      <td>21.982942</td>\n",
              "      <td>1.748584</td>\n",
              "      <td>133.742943</td>\n",
              "      <td>yes</td>\n",
              "      <td>yes</td>\n",
              "      <td>3.0</td>\n",
              "      <td>3.0</td>\n",
              "      <td>Sometimes</td>\n",
              "      <td>no</td>\n",
              "      <td>2.005130</td>\n",
              "      <td>no</td>\n",
              "      <td>1.341390</td>\n",
              "      <td>0.599270</td>\n",
              "      <td>Sometimes</td>\n",
              "      <td>Public_Transportation</td>\n",
              "      <td>Obesity_Type_III</td>\n",
              "    </tr>\n",
              "    <tr>\n",
              "      <th>2108</th>\n",
              "      <td>Female</td>\n",
              "      <td>22.524036</td>\n",
              "      <td>1.752206</td>\n",
              "      <td>133.689352</td>\n",
              "      <td>yes</td>\n",
              "      <td>yes</td>\n",
              "      <td>3.0</td>\n",
              "      <td>3.0</td>\n",
              "      <td>Sometimes</td>\n",
              "      <td>no</td>\n",
              "      <td>2.054193</td>\n",
              "      <td>no</td>\n",
              "      <td>1.414209</td>\n",
              "      <td>0.646288</td>\n",
              "      <td>Sometimes</td>\n",
              "      <td>Public_Transportation</td>\n",
              "      <td>Obesity_Type_III</td>\n",
              "    </tr>\n",
              "    <tr>\n",
              "      <th>2109</th>\n",
              "      <td>Female</td>\n",
              "      <td>24.361936</td>\n",
              "      <td>1.739450</td>\n",
              "      <td>133.346641</td>\n",
              "      <td>yes</td>\n",
              "      <td>yes</td>\n",
              "      <td>3.0</td>\n",
              "      <td>3.0</td>\n",
              "      <td>Sometimes</td>\n",
              "      <td>no</td>\n",
              "      <td>2.852339</td>\n",
              "      <td>no</td>\n",
              "      <td>1.139107</td>\n",
              "      <td>0.586035</td>\n",
              "      <td>Sometimes</td>\n",
              "      <td>Public_Transportation</td>\n",
              "      <td>Obesity_Type_III</td>\n",
              "    </tr>\n",
              "    <tr>\n",
              "      <th>2110</th>\n",
              "      <td>Female</td>\n",
              "      <td>23.664709</td>\n",
              "      <td>1.738836</td>\n",
              "      <td>133.472641</td>\n",
              "      <td>yes</td>\n",
              "      <td>yes</td>\n",
              "      <td>3.0</td>\n",
              "      <td>3.0</td>\n",
              "      <td>Sometimes</td>\n",
              "      <td>no</td>\n",
              "      <td>2.863513</td>\n",
              "      <td>no</td>\n",
              "      <td>1.026452</td>\n",
              "      <td>0.714137</td>\n",
              "      <td>Sometimes</td>\n",
              "      <td>Public_Transportation</td>\n",
              "      <td>Obesity_Type_III</td>\n",
              "    </tr>\n",
              "  </tbody>\n",
              "</table>\n",
              "</div>\n",
              "      <button class=\"colab-df-convert\" onclick=\"convertToInteractive('df-7c335403-4635-48d2-ac88-9937ce61cd62')\"\n",
              "              title=\"Convert this dataframe to an interactive table.\"\n",
              "              style=\"display:none;\">\n",
              "        \n",
              "  <svg xmlns=\"http://www.w3.org/2000/svg\" height=\"24px\"viewBox=\"0 0 24 24\"\n",
              "       width=\"24px\">\n",
              "    <path d=\"M0 0h24v24H0V0z\" fill=\"none\"/>\n",
              "    <path d=\"M18.56 5.44l.94 2.06.94-2.06 2.06-.94-2.06-.94-.94-2.06-.94 2.06-2.06.94zm-11 1L8.5 8.5l.94-2.06 2.06-.94-2.06-.94L8.5 2.5l-.94 2.06-2.06.94zm10 10l.94 2.06.94-2.06 2.06-.94-2.06-.94-.94-2.06-.94 2.06-2.06.94z\"/><path d=\"M17.41 7.96l-1.37-1.37c-.4-.4-.92-.59-1.43-.59-.52 0-1.04.2-1.43.59L10.3 9.45l-7.72 7.72c-.78.78-.78 2.05 0 2.83L4 21.41c.39.39.9.59 1.41.59.51 0 1.02-.2 1.41-.59l7.78-7.78 2.81-2.81c.8-.78.8-2.07 0-2.86zM5.41 20L4 18.59l7.72-7.72 1.47 1.35L5.41 20z\"/>\n",
              "  </svg>\n",
              "      </button>\n",
              "      \n",
              "  <style>\n",
              "    .colab-df-container {\n",
              "      display:flex;\n",
              "      flex-wrap:wrap;\n",
              "      gap: 12px;\n",
              "    }\n",
              "\n",
              "    .colab-df-convert {\n",
              "      background-color: #E8F0FE;\n",
              "      border: none;\n",
              "      border-radius: 50%;\n",
              "      cursor: pointer;\n",
              "      display: none;\n",
              "      fill: #1967D2;\n",
              "      height: 32px;\n",
              "      padding: 0 0 0 0;\n",
              "      width: 32px;\n",
              "    }\n",
              "\n",
              "    .colab-df-convert:hover {\n",
              "      background-color: #E2EBFA;\n",
              "      box-shadow: 0px 1px 2px rgba(60, 64, 67, 0.3), 0px 1px 3px 1px rgba(60, 64, 67, 0.15);\n",
              "      fill: #174EA6;\n",
              "    }\n",
              "\n",
              "    [theme=dark] .colab-df-convert {\n",
              "      background-color: #3B4455;\n",
              "      fill: #D2E3FC;\n",
              "    }\n",
              "\n",
              "    [theme=dark] .colab-df-convert:hover {\n",
              "      background-color: #434B5C;\n",
              "      box-shadow: 0px 1px 3px 1px rgba(0, 0, 0, 0.15);\n",
              "      filter: drop-shadow(0px 1px 2px rgba(0, 0, 0, 0.3));\n",
              "      fill: #FFFFFF;\n",
              "    }\n",
              "  </style>\n",
              "\n",
              "      <script>\n",
              "        const buttonEl =\n",
              "          document.querySelector('#df-7c335403-4635-48d2-ac88-9937ce61cd62 button.colab-df-convert');\n",
              "        buttonEl.style.display =\n",
              "          google.colab.kernel.accessAllowed ? 'block' : 'none';\n",
              "\n",
              "        async function convertToInteractive(key) {\n",
              "          const element = document.querySelector('#df-7c335403-4635-48d2-ac88-9937ce61cd62');\n",
              "          const dataTable =\n",
              "            await google.colab.kernel.invokeFunction('convertToInteractive',\n",
              "                                                     [key], {});\n",
              "          if (!dataTable) return;\n",
              "\n",
              "          const docLinkHtml = 'Like what you see? Visit the ' +\n",
              "            '<a target=\"_blank\" href=https://colab.research.google.com/notebooks/data_table.ipynb>data table notebook</a>'\n",
              "            + ' to learn more about interactive tables.';\n",
              "          element.innerHTML = '';\n",
              "          dataTable['output_type'] = 'display_data';\n",
              "          await google.colab.output.renderOutput(dataTable, element);\n",
              "          const docLink = document.createElement('div');\n",
              "          docLink.innerHTML = docLinkHtml;\n",
              "          element.appendChild(docLink);\n",
              "        }\n",
              "      </script>\n",
              "    </div>\n",
              "  </div>\n",
              "  "
            ]
          },
          "metadata": {},
          "execution_count": 153
        }
      ],
      "source": [
        "df.tail()"
      ]
    },
    {
      "cell_type": "code",
      "execution_count": 154,
      "id": "2836800e",
      "metadata": {
        "id": "2836800e",
        "outputId": "c98b29da-4cb5-4615-c30b-8d564f84baa0",
        "colab": {
          "base_uri": "https://localhost:8080/",
          "height": 339
        }
      },
      "outputs": [
        {
          "output_type": "execute_result",
          "data": {
            "text/plain": [
              "   Gender   Age  Height  Weight Family History with Overweight  \\\n",
              "0  Female  21.0    1.62    64.0                            yes   \n",
              "1  Female  21.0    1.52    56.0                            yes   \n",
              "2    Male  23.0    1.80    77.0                            yes   \n",
              "3    Male  27.0    1.80    87.0                             no   \n",
              "4    Male  22.0    1.78    89.8                             no   \n",
              "\n",
              "  Frequent consumption of high caloric food  \\\n",
              "0                                        no   \n",
              "1                                        no   \n",
              "2                                        no   \n",
              "3                                        no   \n",
              "4                                        no   \n",
              "\n",
              "   Frequency of consumption of vegetables  Number of main meals  \\\n",
              "0                                     2.0                   3.0   \n",
              "1                                     3.0                   3.0   \n",
              "2                                     2.0                   3.0   \n",
              "3                                     3.0                   3.0   \n",
              "4                                     2.0                   1.0   \n",
              "\n",
              "  Consumption of food between meals Smoke  Consumption of water daily  \\\n",
              "0                         Sometimes    no                         2.0   \n",
              "1                         Sometimes   yes                         3.0   \n",
              "2                         Sometimes    no                         2.0   \n",
              "3                         Sometimes    no                         2.0   \n",
              "4                         Sometimes    no                         2.0   \n",
              "\n",
              "  Calories consumption monitoring  Physical activity frequency  \\\n",
              "0                              no                          0.0   \n",
              "1                             yes                          3.0   \n",
              "2                              no                          2.0   \n",
              "3                              no                          2.0   \n",
              "4                              no                          0.0   \n",
              "\n",
              "   Time using technology devices Consumption of alcohol  \\\n",
              "0                            1.0                     no   \n",
              "1                            0.0              Sometimes   \n",
              "2                            1.0             Frequently   \n",
              "3                            0.0             Frequently   \n",
              "4                            0.0              Sometimes   \n",
              "\n",
              "     Transportation used              Obesity  \n",
              "0  Public_Transportation        Normal_Weight  \n",
              "1  Public_Transportation        Normal_Weight  \n",
              "2  Public_Transportation        Normal_Weight  \n",
              "3                Walking   Overweight_Level_I  \n",
              "4  Public_Transportation  Overweight_Level_II  "
            ],
            "text/html": [
              "\n",
              "  <div id=\"df-0cbccad2-4009-4f9e-bbbd-0174dded77ae\">\n",
              "    <div class=\"colab-df-container\">\n",
              "      <div>\n",
              "<style scoped>\n",
              "    .dataframe tbody tr th:only-of-type {\n",
              "        vertical-align: middle;\n",
              "    }\n",
              "\n",
              "    .dataframe tbody tr th {\n",
              "        vertical-align: top;\n",
              "    }\n",
              "\n",
              "    .dataframe thead th {\n",
              "        text-align: right;\n",
              "    }\n",
              "</style>\n",
              "<table border=\"1\" class=\"dataframe\">\n",
              "  <thead>\n",
              "    <tr style=\"text-align: right;\">\n",
              "      <th></th>\n",
              "      <th>Gender</th>\n",
              "      <th>Age</th>\n",
              "      <th>Height</th>\n",
              "      <th>Weight</th>\n",
              "      <th>Family History with Overweight</th>\n",
              "      <th>Frequent consumption of high caloric food</th>\n",
              "      <th>Frequency of consumption of vegetables</th>\n",
              "      <th>Number of main meals</th>\n",
              "      <th>Consumption of food between meals</th>\n",
              "      <th>Smoke</th>\n",
              "      <th>Consumption of water daily</th>\n",
              "      <th>Calories consumption monitoring</th>\n",
              "      <th>Physical activity frequency</th>\n",
              "      <th>Time using technology devices</th>\n",
              "      <th>Consumption of alcohol</th>\n",
              "      <th>Transportation used</th>\n",
              "      <th>Obesity</th>\n",
              "    </tr>\n",
              "  </thead>\n",
              "  <tbody>\n",
              "    <tr>\n",
              "      <th>0</th>\n",
              "      <td>Female</td>\n",
              "      <td>21.0</td>\n",
              "      <td>1.62</td>\n",
              "      <td>64.0</td>\n",
              "      <td>yes</td>\n",
              "      <td>no</td>\n",
              "      <td>2.0</td>\n",
              "      <td>3.0</td>\n",
              "      <td>Sometimes</td>\n",
              "      <td>no</td>\n",
              "      <td>2.0</td>\n",
              "      <td>no</td>\n",
              "      <td>0.0</td>\n",
              "      <td>1.0</td>\n",
              "      <td>no</td>\n",
              "      <td>Public_Transportation</td>\n",
              "      <td>Normal_Weight</td>\n",
              "    </tr>\n",
              "    <tr>\n",
              "      <th>1</th>\n",
              "      <td>Female</td>\n",
              "      <td>21.0</td>\n",
              "      <td>1.52</td>\n",
              "      <td>56.0</td>\n",
              "      <td>yes</td>\n",
              "      <td>no</td>\n",
              "      <td>3.0</td>\n",
              "      <td>3.0</td>\n",
              "      <td>Sometimes</td>\n",
              "      <td>yes</td>\n",
              "      <td>3.0</td>\n",
              "      <td>yes</td>\n",
              "      <td>3.0</td>\n",
              "      <td>0.0</td>\n",
              "      <td>Sometimes</td>\n",
              "      <td>Public_Transportation</td>\n",
              "      <td>Normal_Weight</td>\n",
              "    </tr>\n",
              "    <tr>\n",
              "      <th>2</th>\n",
              "      <td>Male</td>\n",
              "      <td>23.0</td>\n",
              "      <td>1.80</td>\n",
              "      <td>77.0</td>\n",
              "      <td>yes</td>\n",
              "      <td>no</td>\n",
              "      <td>2.0</td>\n",
              "      <td>3.0</td>\n",
              "      <td>Sometimes</td>\n",
              "      <td>no</td>\n",
              "      <td>2.0</td>\n",
              "      <td>no</td>\n",
              "      <td>2.0</td>\n",
              "      <td>1.0</td>\n",
              "      <td>Frequently</td>\n",
              "      <td>Public_Transportation</td>\n",
              "      <td>Normal_Weight</td>\n",
              "    </tr>\n",
              "    <tr>\n",
              "      <th>3</th>\n",
              "      <td>Male</td>\n",
              "      <td>27.0</td>\n",
              "      <td>1.80</td>\n",
              "      <td>87.0</td>\n",
              "      <td>no</td>\n",
              "      <td>no</td>\n",
              "      <td>3.0</td>\n",
              "      <td>3.0</td>\n",
              "      <td>Sometimes</td>\n",
              "      <td>no</td>\n",
              "      <td>2.0</td>\n",
              "      <td>no</td>\n",
              "      <td>2.0</td>\n",
              "      <td>0.0</td>\n",
              "      <td>Frequently</td>\n",
              "      <td>Walking</td>\n",
              "      <td>Overweight_Level_I</td>\n",
              "    </tr>\n",
              "    <tr>\n",
              "      <th>4</th>\n",
              "      <td>Male</td>\n",
              "      <td>22.0</td>\n",
              "      <td>1.78</td>\n",
              "      <td>89.8</td>\n",
              "      <td>no</td>\n",
              "      <td>no</td>\n",
              "      <td>2.0</td>\n",
              "      <td>1.0</td>\n",
              "      <td>Sometimes</td>\n",
              "      <td>no</td>\n",
              "      <td>2.0</td>\n",
              "      <td>no</td>\n",
              "      <td>0.0</td>\n",
              "      <td>0.0</td>\n",
              "      <td>Sometimes</td>\n",
              "      <td>Public_Transportation</td>\n",
              "      <td>Overweight_Level_II</td>\n",
              "    </tr>\n",
              "  </tbody>\n",
              "</table>\n",
              "</div>\n",
              "      <button class=\"colab-df-convert\" onclick=\"convertToInteractive('df-0cbccad2-4009-4f9e-bbbd-0174dded77ae')\"\n",
              "              title=\"Convert this dataframe to an interactive table.\"\n",
              "              style=\"display:none;\">\n",
              "        \n",
              "  <svg xmlns=\"http://www.w3.org/2000/svg\" height=\"24px\"viewBox=\"0 0 24 24\"\n",
              "       width=\"24px\">\n",
              "    <path d=\"M0 0h24v24H0V0z\" fill=\"none\"/>\n",
              "    <path d=\"M18.56 5.44l.94 2.06.94-2.06 2.06-.94-2.06-.94-.94-2.06-.94 2.06-2.06.94zm-11 1L8.5 8.5l.94-2.06 2.06-.94-2.06-.94L8.5 2.5l-.94 2.06-2.06.94zm10 10l.94 2.06.94-2.06 2.06-.94-2.06-.94-.94-2.06-.94 2.06-2.06.94z\"/><path d=\"M17.41 7.96l-1.37-1.37c-.4-.4-.92-.59-1.43-.59-.52 0-1.04.2-1.43.59L10.3 9.45l-7.72 7.72c-.78.78-.78 2.05 0 2.83L4 21.41c.39.39.9.59 1.41.59.51 0 1.02-.2 1.41-.59l7.78-7.78 2.81-2.81c.8-.78.8-2.07 0-2.86zM5.41 20L4 18.59l7.72-7.72 1.47 1.35L5.41 20z\"/>\n",
              "  </svg>\n",
              "      </button>\n",
              "      \n",
              "  <style>\n",
              "    .colab-df-container {\n",
              "      display:flex;\n",
              "      flex-wrap:wrap;\n",
              "      gap: 12px;\n",
              "    }\n",
              "\n",
              "    .colab-df-convert {\n",
              "      background-color: #E8F0FE;\n",
              "      border: none;\n",
              "      border-radius: 50%;\n",
              "      cursor: pointer;\n",
              "      display: none;\n",
              "      fill: #1967D2;\n",
              "      height: 32px;\n",
              "      padding: 0 0 0 0;\n",
              "      width: 32px;\n",
              "    }\n",
              "\n",
              "    .colab-df-convert:hover {\n",
              "      background-color: #E2EBFA;\n",
              "      box-shadow: 0px 1px 2px rgba(60, 64, 67, 0.3), 0px 1px 3px 1px rgba(60, 64, 67, 0.15);\n",
              "      fill: #174EA6;\n",
              "    }\n",
              "\n",
              "    [theme=dark] .colab-df-convert {\n",
              "      background-color: #3B4455;\n",
              "      fill: #D2E3FC;\n",
              "    }\n",
              "\n",
              "    [theme=dark] .colab-df-convert:hover {\n",
              "      background-color: #434B5C;\n",
              "      box-shadow: 0px 1px 3px 1px rgba(0, 0, 0, 0.15);\n",
              "      filter: drop-shadow(0px 1px 2px rgba(0, 0, 0, 0.3));\n",
              "      fill: #FFFFFF;\n",
              "    }\n",
              "  </style>\n",
              "\n",
              "      <script>\n",
              "        const buttonEl =\n",
              "          document.querySelector('#df-0cbccad2-4009-4f9e-bbbd-0174dded77ae button.colab-df-convert');\n",
              "        buttonEl.style.display =\n",
              "          google.colab.kernel.accessAllowed ? 'block' : 'none';\n",
              "\n",
              "        async function convertToInteractive(key) {\n",
              "          const element = document.querySelector('#df-0cbccad2-4009-4f9e-bbbd-0174dded77ae');\n",
              "          const dataTable =\n",
              "            await google.colab.kernel.invokeFunction('convertToInteractive',\n",
              "                                                     [key], {});\n",
              "          if (!dataTable) return;\n",
              "\n",
              "          const docLinkHtml = 'Like what you see? Visit the ' +\n",
              "            '<a target=\"_blank\" href=https://colab.research.google.com/notebooks/data_table.ipynb>data table notebook</a>'\n",
              "            + ' to learn more about interactive tables.';\n",
              "          element.innerHTML = '';\n",
              "          dataTable['output_type'] = 'display_data';\n",
              "          await google.colab.output.renderOutput(dataTable, element);\n",
              "          const docLink = document.createElement('div');\n",
              "          docLink.innerHTML = docLinkHtml;\n",
              "          element.appendChild(docLink);\n",
              "        }\n",
              "      </script>\n",
              "    </div>\n",
              "  </div>\n",
              "  "
            ]
          },
          "metadata": {},
          "execution_count": 154
        }
      ],
      "source": [
        "# change columns names\n",
        "# refer:- https://www.sciencedirect.com/science/article/pii/S2352340919306985?via%3Dihub\n",
        "\n",
        "df.columns = ['Gender', 'Age', 'Height', 'Weight', 'Family History with Overweight',\n",
        "       'Frequent consumption of high caloric food', 'Frequency of consumption of vegetables', 'Number of main meals', 'Consumption of food between meals', 'Smoke', 'Consumption of water daily', 'Calories consumption monitoring', 'Physical activity frequency', 'Time using technology devices',\n",
        "       'Consumption of alcohol', 'Transportation used', 'Obesity']\n",
        "df.head()"
      ]
    },
    {
      "cell_type": "code",
      "execution_count": 155,
      "id": "3344b0c2",
      "metadata": {
        "id": "3344b0c2",
        "outputId": "de717033-4851-428a-9cad-6b63f15f4d9d",
        "colab": {
          "base_uri": "https://localhost:8080/",
          "height": 300
        }
      },
      "outputs": [
        {
          "output_type": "execute_result",
          "data": {
            "text/plain": [
              "                                         count       mean        std    min  \\\n",
              "Age                                     2111.0  24.312600   6.345968  14.00   \n",
              "Height                                  2111.0   1.701677   0.093305   1.45   \n",
              "Weight                                  2111.0  86.586058  26.191172  39.00   \n",
              "Frequency of consumption of vegetables  2111.0   2.419043   0.533927   1.00   \n",
              "Number of main meals                    2111.0   2.685628   0.778039   1.00   \n",
              "Consumption of water daily              2111.0   2.008011   0.612953   1.00   \n",
              "Physical activity frequency             2111.0   1.010298   0.850592   0.00   \n",
              "Time using technology devices           2111.0   0.657866   0.608927   0.00   \n",
              "\n",
              "                                              25%        50%         75%  \\\n",
              "Age                                     19.947192  22.777890   26.000000   \n",
              "Height                                   1.630000   1.700499    1.768464   \n",
              "Weight                                  65.473343  83.000000  107.430682   \n",
              "Frequency of consumption of vegetables   2.000000   2.385502    3.000000   \n",
              "Number of main meals                     2.658738   3.000000    3.000000   \n",
              "Consumption of water daily               1.584812   2.000000    2.477420   \n",
              "Physical activity frequency              0.124505   1.000000    1.666678   \n",
              "Time using technology devices            0.000000   0.625350    1.000000   \n",
              "\n",
              "                                           max  \n",
              "Age                                      61.00  \n",
              "Height                                    1.98  \n",
              "Weight                                  173.00  \n",
              "Frequency of consumption of vegetables    3.00  \n",
              "Number of main meals                      4.00  \n",
              "Consumption of water daily                3.00  \n",
              "Physical activity frequency               3.00  \n",
              "Time using technology devices             2.00  "
            ],
            "text/html": [
              "\n",
              "  <div id=\"df-b2ed9d8c-80eb-4a49-b09c-c20883769ca6\">\n",
              "    <div class=\"colab-df-container\">\n",
              "      <div>\n",
              "<style scoped>\n",
              "    .dataframe tbody tr th:only-of-type {\n",
              "        vertical-align: middle;\n",
              "    }\n",
              "\n",
              "    .dataframe tbody tr th {\n",
              "        vertical-align: top;\n",
              "    }\n",
              "\n",
              "    .dataframe thead th {\n",
              "        text-align: right;\n",
              "    }\n",
              "</style>\n",
              "<table border=\"1\" class=\"dataframe\">\n",
              "  <thead>\n",
              "    <tr style=\"text-align: right;\">\n",
              "      <th></th>\n",
              "      <th>count</th>\n",
              "      <th>mean</th>\n",
              "      <th>std</th>\n",
              "      <th>min</th>\n",
              "      <th>25%</th>\n",
              "      <th>50%</th>\n",
              "      <th>75%</th>\n",
              "      <th>max</th>\n",
              "    </tr>\n",
              "  </thead>\n",
              "  <tbody>\n",
              "    <tr>\n",
              "      <th>Age</th>\n",
              "      <td>2111.0</td>\n",
              "      <td>24.312600</td>\n",
              "      <td>6.345968</td>\n",
              "      <td>14.00</td>\n",
              "      <td>19.947192</td>\n",
              "      <td>22.777890</td>\n",
              "      <td>26.000000</td>\n",
              "      <td>61.00</td>\n",
              "    </tr>\n",
              "    <tr>\n",
              "      <th>Height</th>\n",
              "      <td>2111.0</td>\n",
              "      <td>1.701677</td>\n",
              "      <td>0.093305</td>\n",
              "      <td>1.45</td>\n",
              "      <td>1.630000</td>\n",
              "      <td>1.700499</td>\n",
              "      <td>1.768464</td>\n",
              "      <td>1.98</td>\n",
              "    </tr>\n",
              "    <tr>\n",
              "      <th>Weight</th>\n",
              "      <td>2111.0</td>\n",
              "      <td>86.586058</td>\n",
              "      <td>26.191172</td>\n",
              "      <td>39.00</td>\n",
              "      <td>65.473343</td>\n",
              "      <td>83.000000</td>\n",
              "      <td>107.430682</td>\n",
              "      <td>173.00</td>\n",
              "    </tr>\n",
              "    <tr>\n",
              "      <th>Frequency of consumption of vegetables</th>\n",
              "      <td>2111.0</td>\n",
              "      <td>2.419043</td>\n",
              "      <td>0.533927</td>\n",
              "      <td>1.00</td>\n",
              "      <td>2.000000</td>\n",
              "      <td>2.385502</td>\n",
              "      <td>3.000000</td>\n",
              "      <td>3.00</td>\n",
              "    </tr>\n",
              "    <tr>\n",
              "      <th>Number of main meals</th>\n",
              "      <td>2111.0</td>\n",
              "      <td>2.685628</td>\n",
              "      <td>0.778039</td>\n",
              "      <td>1.00</td>\n",
              "      <td>2.658738</td>\n",
              "      <td>3.000000</td>\n",
              "      <td>3.000000</td>\n",
              "      <td>4.00</td>\n",
              "    </tr>\n",
              "    <tr>\n",
              "      <th>Consumption of water daily</th>\n",
              "      <td>2111.0</td>\n",
              "      <td>2.008011</td>\n",
              "      <td>0.612953</td>\n",
              "      <td>1.00</td>\n",
              "      <td>1.584812</td>\n",
              "      <td>2.000000</td>\n",
              "      <td>2.477420</td>\n",
              "      <td>3.00</td>\n",
              "    </tr>\n",
              "    <tr>\n",
              "      <th>Physical activity frequency</th>\n",
              "      <td>2111.0</td>\n",
              "      <td>1.010298</td>\n",
              "      <td>0.850592</td>\n",
              "      <td>0.00</td>\n",
              "      <td>0.124505</td>\n",
              "      <td>1.000000</td>\n",
              "      <td>1.666678</td>\n",
              "      <td>3.00</td>\n",
              "    </tr>\n",
              "    <tr>\n",
              "      <th>Time using technology devices</th>\n",
              "      <td>2111.0</td>\n",
              "      <td>0.657866</td>\n",
              "      <td>0.608927</td>\n",
              "      <td>0.00</td>\n",
              "      <td>0.000000</td>\n",
              "      <td>0.625350</td>\n",
              "      <td>1.000000</td>\n",
              "      <td>2.00</td>\n",
              "    </tr>\n",
              "  </tbody>\n",
              "</table>\n",
              "</div>\n",
              "      <button class=\"colab-df-convert\" onclick=\"convertToInteractive('df-b2ed9d8c-80eb-4a49-b09c-c20883769ca6')\"\n",
              "              title=\"Convert this dataframe to an interactive table.\"\n",
              "              style=\"display:none;\">\n",
              "        \n",
              "  <svg xmlns=\"http://www.w3.org/2000/svg\" height=\"24px\"viewBox=\"0 0 24 24\"\n",
              "       width=\"24px\">\n",
              "    <path d=\"M0 0h24v24H0V0z\" fill=\"none\"/>\n",
              "    <path d=\"M18.56 5.44l.94 2.06.94-2.06 2.06-.94-2.06-.94-.94-2.06-.94 2.06-2.06.94zm-11 1L8.5 8.5l.94-2.06 2.06-.94-2.06-.94L8.5 2.5l-.94 2.06-2.06.94zm10 10l.94 2.06.94-2.06 2.06-.94-2.06-.94-.94-2.06-.94 2.06-2.06.94z\"/><path d=\"M17.41 7.96l-1.37-1.37c-.4-.4-.92-.59-1.43-.59-.52 0-1.04.2-1.43.59L10.3 9.45l-7.72 7.72c-.78.78-.78 2.05 0 2.83L4 21.41c.39.39.9.59 1.41.59.51 0 1.02-.2 1.41-.59l7.78-7.78 2.81-2.81c.8-.78.8-2.07 0-2.86zM5.41 20L4 18.59l7.72-7.72 1.47 1.35L5.41 20z\"/>\n",
              "  </svg>\n",
              "      </button>\n",
              "      \n",
              "  <style>\n",
              "    .colab-df-container {\n",
              "      display:flex;\n",
              "      flex-wrap:wrap;\n",
              "      gap: 12px;\n",
              "    }\n",
              "\n",
              "    .colab-df-convert {\n",
              "      background-color: #E8F0FE;\n",
              "      border: none;\n",
              "      border-radius: 50%;\n",
              "      cursor: pointer;\n",
              "      display: none;\n",
              "      fill: #1967D2;\n",
              "      height: 32px;\n",
              "      padding: 0 0 0 0;\n",
              "      width: 32px;\n",
              "    }\n",
              "\n",
              "    .colab-df-convert:hover {\n",
              "      background-color: #E2EBFA;\n",
              "      box-shadow: 0px 1px 2px rgba(60, 64, 67, 0.3), 0px 1px 3px 1px rgba(60, 64, 67, 0.15);\n",
              "      fill: #174EA6;\n",
              "    }\n",
              "\n",
              "    [theme=dark] .colab-df-convert {\n",
              "      background-color: #3B4455;\n",
              "      fill: #D2E3FC;\n",
              "    }\n",
              "\n",
              "    [theme=dark] .colab-df-convert:hover {\n",
              "      background-color: #434B5C;\n",
              "      box-shadow: 0px 1px 3px 1px rgba(0, 0, 0, 0.15);\n",
              "      filter: drop-shadow(0px 1px 2px rgba(0, 0, 0, 0.3));\n",
              "      fill: #FFFFFF;\n",
              "    }\n",
              "  </style>\n",
              "\n",
              "      <script>\n",
              "        const buttonEl =\n",
              "          document.querySelector('#df-b2ed9d8c-80eb-4a49-b09c-c20883769ca6 button.colab-df-convert');\n",
              "        buttonEl.style.display =\n",
              "          google.colab.kernel.accessAllowed ? 'block' : 'none';\n",
              "\n",
              "        async function convertToInteractive(key) {\n",
              "          const element = document.querySelector('#df-b2ed9d8c-80eb-4a49-b09c-c20883769ca6');\n",
              "          const dataTable =\n",
              "            await google.colab.kernel.invokeFunction('convertToInteractive',\n",
              "                                                     [key], {});\n",
              "          if (!dataTable) return;\n",
              "\n",
              "          const docLinkHtml = 'Like what you see? Visit the ' +\n",
              "            '<a target=\"_blank\" href=https://colab.research.google.com/notebooks/data_table.ipynb>data table notebook</a>'\n",
              "            + ' to learn more about interactive tables.';\n",
              "          element.innerHTML = '';\n",
              "          dataTable['output_type'] = 'display_data';\n",
              "          await google.colab.output.renderOutput(dataTable, element);\n",
              "          const docLink = document.createElement('div');\n",
              "          docLink.innerHTML = docLinkHtml;\n",
              "          element.appendChild(docLink);\n",
              "        }\n",
              "      </script>\n",
              "    </div>\n",
              "  </div>\n",
              "  "
            ]
          },
          "metadata": {},
          "execution_count": 155
        }
      ],
      "source": [
        "df.describe().T"
      ]
    },
    {
      "cell_type": "code",
      "execution_count": 156,
      "id": "f7c9d748",
      "metadata": {
        "id": "f7c9d748",
        "outputId": "22737c75-336e-4a9b-814e-2cd4b3741f1e",
        "colab": {
          "base_uri": "https://localhost:8080/",
          "height": 0
        }
      },
      "outputs": [
        {
          "output_type": "stream",
          "name": "stdout",
          "text": [
            "<class 'pandas.core.frame.DataFrame'>\n",
            "RangeIndex: 2111 entries, 0 to 2110\n",
            "Data columns (total 17 columns):\n",
            " #   Column                                     Non-Null Count  Dtype  \n",
            "---  ------                                     --------------  -----  \n",
            " 0   Gender                                     2111 non-null   object \n",
            " 1   Age                                        2111 non-null   float64\n",
            " 2   Height                                     2111 non-null   float64\n",
            " 3   Weight                                     2111 non-null   float64\n",
            " 4   Family History with Overweight             2111 non-null   object \n",
            " 5   Frequent consumption of high caloric food  2111 non-null   object \n",
            " 6   Frequency of consumption of vegetables     2111 non-null   float64\n",
            " 7   Number of main meals                       2111 non-null   float64\n",
            " 8   Consumption of food between meals          2111 non-null   object \n",
            " 9   Smoke                                      2111 non-null   object \n",
            " 10  Consumption of water daily                 2111 non-null   float64\n",
            " 11  Calories consumption monitoring            2111 non-null   object \n",
            " 12  Physical activity frequency                2111 non-null   float64\n",
            " 13  Time using technology devices              2111 non-null   float64\n",
            " 14  Consumption of alcohol                     2111 non-null   object \n",
            " 15  Transportation used                        2111 non-null   object \n",
            " 16  Obesity                                    2111 non-null   object \n",
            "dtypes: float64(8), object(9)\n",
            "memory usage: 280.5+ KB\n"
          ]
        }
      ],
      "source": [
        "df.info()"
      ]
    },
    {
      "cell_type": "code",
      "execution_count": 157,
      "id": "3aa83508",
      "metadata": {
        "id": "3aa83508",
        "outputId": "63fbcaf0-65fb-4467-e3f4-4444f42cd4e9",
        "colab": {
          "base_uri": "https://localhost:8080/",
          "height": 0
        }
      },
      "outputs": [
        {
          "output_type": "execute_result",
          "data": {
            "text/plain": [
              "Gender                                       0\n",
              "Age                                          0\n",
              "Height                                       0\n",
              "Weight                                       0\n",
              "Family History with Overweight               0\n",
              "Frequent consumption of high caloric food    0\n",
              "Frequency of consumption of vegetables       0\n",
              "Number of main meals                         0\n",
              "Consumption of food between meals            0\n",
              "Smoke                                        0\n",
              "Consumption of water daily                   0\n",
              "Calories consumption monitoring              0\n",
              "Physical activity frequency                  0\n",
              "Time using technology devices                0\n",
              "Consumption of alcohol                       0\n",
              "Transportation used                          0\n",
              "Obesity                                      0\n",
              "dtype: int64"
            ]
          },
          "metadata": {},
          "execution_count": 157
        }
      ],
      "source": [
        "df.isna().sum()\n",
        "# no missing value present"
      ]
    },
    {
      "cell_type": "code",
      "execution_count": 158,
      "id": "331e148c",
      "metadata": {
        "id": "331e148c"
      },
      "outputs": [],
      "source": [
        "#type conversion\n",
        "\n",
        "# roundoff age to int\n",
        "df['Age'] = df['Age'].round(0).astype(int)\n",
        "\n",
        "df['Number of main meals']= df['Number of main meals'].astype(int)\n",
        "\n",
        "df['Frequency of consumption of vegetables'] = df['Frequency of consumption of vegetables'].astype(int)\n",
        "#Frequency of consumption of vegetables : 1- never , 2- sometimes , 3 - always\n"
      ]
    },
    {
      "cell_type": "code",
      "execution_count": 159,
      "id": "e02f0d5a",
      "metadata": {
        "id": "e02f0d5a",
        "outputId": "e4e6d0a5-3e18-4c5c-8e7a-42b3fdbcf957",
        "colab": {
          "base_uri": "https://localhost:8080/",
          "height": 300
        }
      },
      "outputs": [
        {
          "output_type": "execute_result",
          "data": {
            "text/plain": [
              "                                         count       mean        std    min  \\\n",
              "Age                                     2111.0  24.315964   6.357078  14.00   \n",
              "Height                                  2111.0   1.701677   0.093305   1.45   \n",
              "Weight                                  2111.0  86.586058  26.191172  39.00   \n",
              "Frequency of consumption of vegetables  2111.0   2.213169   0.599397   1.00   \n",
              "Number of main meals                    2111.0   2.523449   0.830288   1.00   \n",
              "Consumption of water daily              2111.0   2.008011   0.612953   1.00   \n",
              "Physical activity frequency             2111.0   1.010298   0.850592   0.00   \n",
              "Time using technology devices           2111.0   0.657866   0.608927   0.00   \n",
              "\n",
              "                                              25%        50%         75%  \\\n",
              "Age                                     20.000000  23.000000   26.000000   \n",
              "Height                                   1.630000   1.700499    1.768464   \n",
              "Weight                                  65.473343  83.000000  107.430682   \n",
              "Frequency of consumption of vegetables   2.000000   2.000000    3.000000   \n",
              "Number of main meals                     2.000000   3.000000    3.000000   \n",
              "Consumption of water daily               1.584812   2.000000    2.477420   \n",
              "Physical activity frequency              0.124505   1.000000    1.666678   \n",
              "Time using technology devices            0.000000   0.625350    1.000000   \n",
              "\n",
              "                                           max  \n",
              "Age                                      61.00  \n",
              "Height                                    1.98  \n",
              "Weight                                  173.00  \n",
              "Frequency of consumption of vegetables    3.00  \n",
              "Number of main meals                      4.00  \n",
              "Consumption of water daily                3.00  \n",
              "Physical activity frequency               3.00  \n",
              "Time using technology devices             2.00  "
            ],
            "text/html": [
              "\n",
              "  <div id=\"df-a089a0f8-84ce-4db7-930d-958abf6c712f\">\n",
              "    <div class=\"colab-df-container\">\n",
              "      <div>\n",
              "<style scoped>\n",
              "    .dataframe tbody tr th:only-of-type {\n",
              "        vertical-align: middle;\n",
              "    }\n",
              "\n",
              "    .dataframe tbody tr th {\n",
              "        vertical-align: top;\n",
              "    }\n",
              "\n",
              "    .dataframe thead th {\n",
              "        text-align: right;\n",
              "    }\n",
              "</style>\n",
              "<table border=\"1\" class=\"dataframe\">\n",
              "  <thead>\n",
              "    <tr style=\"text-align: right;\">\n",
              "      <th></th>\n",
              "      <th>count</th>\n",
              "      <th>mean</th>\n",
              "      <th>std</th>\n",
              "      <th>min</th>\n",
              "      <th>25%</th>\n",
              "      <th>50%</th>\n",
              "      <th>75%</th>\n",
              "      <th>max</th>\n",
              "    </tr>\n",
              "  </thead>\n",
              "  <tbody>\n",
              "    <tr>\n",
              "      <th>Age</th>\n",
              "      <td>2111.0</td>\n",
              "      <td>24.315964</td>\n",
              "      <td>6.357078</td>\n",
              "      <td>14.00</td>\n",
              "      <td>20.000000</td>\n",
              "      <td>23.000000</td>\n",
              "      <td>26.000000</td>\n",
              "      <td>61.00</td>\n",
              "    </tr>\n",
              "    <tr>\n",
              "      <th>Height</th>\n",
              "      <td>2111.0</td>\n",
              "      <td>1.701677</td>\n",
              "      <td>0.093305</td>\n",
              "      <td>1.45</td>\n",
              "      <td>1.630000</td>\n",
              "      <td>1.700499</td>\n",
              "      <td>1.768464</td>\n",
              "      <td>1.98</td>\n",
              "    </tr>\n",
              "    <tr>\n",
              "      <th>Weight</th>\n",
              "      <td>2111.0</td>\n",
              "      <td>86.586058</td>\n",
              "      <td>26.191172</td>\n",
              "      <td>39.00</td>\n",
              "      <td>65.473343</td>\n",
              "      <td>83.000000</td>\n",
              "      <td>107.430682</td>\n",
              "      <td>173.00</td>\n",
              "    </tr>\n",
              "    <tr>\n",
              "      <th>Frequency of consumption of vegetables</th>\n",
              "      <td>2111.0</td>\n",
              "      <td>2.213169</td>\n",
              "      <td>0.599397</td>\n",
              "      <td>1.00</td>\n",
              "      <td>2.000000</td>\n",
              "      <td>2.000000</td>\n",
              "      <td>3.000000</td>\n",
              "      <td>3.00</td>\n",
              "    </tr>\n",
              "    <tr>\n",
              "      <th>Number of main meals</th>\n",
              "      <td>2111.0</td>\n",
              "      <td>2.523449</td>\n",
              "      <td>0.830288</td>\n",
              "      <td>1.00</td>\n",
              "      <td>2.000000</td>\n",
              "      <td>3.000000</td>\n",
              "      <td>3.000000</td>\n",
              "      <td>4.00</td>\n",
              "    </tr>\n",
              "    <tr>\n",
              "      <th>Consumption of water daily</th>\n",
              "      <td>2111.0</td>\n",
              "      <td>2.008011</td>\n",
              "      <td>0.612953</td>\n",
              "      <td>1.00</td>\n",
              "      <td>1.584812</td>\n",
              "      <td>2.000000</td>\n",
              "      <td>2.477420</td>\n",
              "      <td>3.00</td>\n",
              "    </tr>\n",
              "    <tr>\n",
              "      <th>Physical activity frequency</th>\n",
              "      <td>2111.0</td>\n",
              "      <td>1.010298</td>\n",
              "      <td>0.850592</td>\n",
              "      <td>0.00</td>\n",
              "      <td>0.124505</td>\n",
              "      <td>1.000000</td>\n",
              "      <td>1.666678</td>\n",
              "      <td>3.00</td>\n",
              "    </tr>\n",
              "    <tr>\n",
              "      <th>Time using technology devices</th>\n",
              "      <td>2111.0</td>\n",
              "      <td>0.657866</td>\n",
              "      <td>0.608927</td>\n",
              "      <td>0.00</td>\n",
              "      <td>0.000000</td>\n",
              "      <td>0.625350</td>\n",
              "      <td>1.000000</td>\n",
              "      <td>2.00</td>\n",
              "    </tr>\n",
              "  </tbody>\n",
              "</table>\n",
              "</div>\n",
              "      <button class=\"colab-df-convert\" onclick=\"convertToInteractive('df-a089a0f8-84ce-4db7-930d-958abf6c712f')\"\n",
              "              title=\"Convert this dataframe to an interactive table.\"\n",
              "              style=\"display:none;\">\n",
              "        \n",
              "  <svg xmlns=\"http://www.w3.org/2000/svg\" height=\"24px\"viewBox=\"0 0 24 24\"\n",
              "       width=\"24px\">\n",
              "    <path d=\"M0 0h24v24H0V0z\" fill=\"none\"/>\n",
              "    <path d=\"M18.56 5.44l.94 2.06.94-2.06 2.06-.94-2.06-.94-.94-2.06-.94 2.06-2.06.94zm-11 1L8.5 8.5l.94-2.06 2.06-.94-2.06-.94L8.5 2.5l-.94 2.06-2.06.94zm10 10l.94 2.06.94-2.06 2.06-.94-2.06-.94-.94-2.06-.94 2.06-2.06.94z\"/><path d=\"M17.41 7.96l-1.37-1.37c-.4-.4-.92-.59-1.43-.59-.52 0-1.04.2-1.43.59L10.3 9.45l-7.72 7.72c-.78.78-.78 2.05 0 2.83L4 21.41c.39.39.9.59 1.41.59.51 0 1.02-.2 1.41-.59l7.78-7.78 2.81-2.81c.8-.78.8-2.07 0-2.86zM5.41 20L4 18.59l7.72-7.72 1.47 1.35L5.41 20z\"/>\n",
              "  </svg>\n",
              "      </button>\n",
              "      \n",
              "  <style>\n",
              "    .colab-df-container {\n",
              "      display:flex;\n",
              "      flex-wrap:wrap;\n",
              "      gap: 12px;\n",
              "    }\n",
              "\n",
              "    .colab-df-convert {\n",
              "      background-color: #E8F0FE;\n",
              "      border: none;\n",
              "      border-radius: 50%;\n",
              "      cursor: pointer;\n",
              "      display: none;\n",
              "      fill: #1967D2;\n",
              "      height: 32px;\n",
              "      padding: 0 0 0 0;\n",
              "      width: 32px;\n",
              "    }\n",
              "\n",
              "    .colab-df-convert:hover {\n",
              "      background-color: #E2EBFA;\n",
              "      box-shadow: 0px 1px 2px rgba(60, 64, 67, 0.3), 0px 1px 3px 1px rgba(60, 64, 67, 0.15);\n",
              "      fill: #174EA6;\n",
              "    }\n",
              "\n",
              "    [theme=dark] .colab-df-convert {\n",
              "      background-color: #3B4455;\n",
              "      fill: #D2E3FC;\n",
              "    }\n",
              "\n",
              "    [theme=dark] .colab-df-convert:hover {\n",
              "      background-color: #434B5C;\n",
              "      box-shadow: 0px 1px 3px 1px rgba(0, 0, 0, 0.15);\n",
              "      filter: drop-shadow(0px 1px 2px rgba(0, 0, 0, 0.3));\n",
              "      fill: #FFFFFF;\n",
              "    }\n",
              "  </style>\n",
              "\n",
              "      <script>\n",
              "        const buttonEl =\n",
              "          document.querySelector('#df-a089a0f8-84ce-4db7-930d-958abf6c712f button.colab-df-convert');\n",
              "        buttonEl.style.display =\n",
              "          google.colab.kernel.accessAllowed ? 'block' : 'none';\n",
              "\n",
              "        async function convertToInteractive(key) {\n",
              "          const element = document.querySelector('#df-a089a0f8-84ce-4db7-930d-958abf6c712f');\n",
              "          const dataTable =\n",
              "            await google.colab.kernel.invokeFunction('convertToInteractive',\n",
              "                                                     [key], {});\n",
              "          if (!dataTable) return;\n",
              "\n",
              "          const docLinkHtml = 'Like what you see? Visit the ' +\n",
              "            '<a target=\"_blank\" href=https://colab.research.google.com/notebooks/data_table.ipynb>data table notebook</a>'\n",
              "            + ' to learn more about interactive tables.';\n",
              "          element.innerHTML = '';\n",
              "          dataTable['output_type'] = 'display_data';\n",
              "          await google.colab.output.renderOutput(dataTable, element);\n",
              "          const docLink = document.createElement('div');\n",
              "          docLink.innerHTML = docLinkHtml;\n",
              "          element.appendChild(docLink);\n",
              "        }\n",
              "      </script>\n",
              "    </div>\n",
              "  </div>\n",
              "  "
            ]
          },
          "metadata": {},
          "execution_count": 159
        }
      ],
      "source": [
        "df.describe().T"
      ]
    },
    {
      "cell_type": "code",
      "execution_count": 160,
      "id": "66b748f7",
      "metadata": {
        "id": "66b748f7",
        "outputId": "5ec6894e-405e-4f65-90bd-d6b093ee0eec",
        "colab": {
          "base_uri": "https://localhost:8080/",
          "height": 557
        }
      },
      "outputs": [
        {
          "output_type": "execute_result",
          "data": {
            "text/plain": [
              "      Gender  Age    Height      Weight Family History with Overweight  \\\n",
              "0     Female   21  1.620000   64.000000                            yes   \n",
              "1     Female   21  1.520000   56.000000                            yes   \n",
              "2       Male   23  1.800000   77.000000                            yes   \n",
              "3       Male   27  1.800000   87.000000                             no   \n",
              "4       Male   22  1.780000   89.800000                             no   \n",
              "...      ...  ...       ...         ...                            ...   \n",
              "2106  Female   21  1.710730  131.408528                            yes   \n",
              "2107  Female   22  1.748584  133.742943                            yes   \n",
              "2108  Female   23  1.752206  133.689352                            yes   \n",
              "2109  Female   24  1.739450  133.346641                            yes   \n",
              "2110  Female   24  1.738836  133.472641                            yes   \n",
              "\n",
              "     Frequent consumption of high caloric food  \\\n",
              "0                                           no   \n",
              "1                                           no   \n",
              "2                                           no   \n",
              "3                                           no   \n",
              "4                                           no   \n",
              "...                                        ...   \n",
              "2106                                       yes   \n",
              "2107                                       yes   \n",
              "2108                                       yes   \n",
              "2109                                       yes   \n",
              "2110                                       yes   \n",
              "\n",
              "      Frequency of consumption of vegetables  Number of main meals  \\\n",
              "0                                          2                     3   \n",
              "1                                          3                     3   \n",
              "2                                          2                     3   \n",
              "3                                          3                     3   \n",
              "4                                          2                     1   \n",
              "...                                      ...                   ...   \n",
              "2106                                       3                     3   \n",
              "2107                                       3                     3   \n",
              "2108                                       3                     3   \n",
              "2109                                       3                     3   \n",
              "2110                                       3                     3   \n",
              "\n",
              "     Consumption of food between meals Smoke  Consumption of water daily  \\\n",
              "0                            Sometimes    no                    2.000000   \n",
              "1                            Sometimes   yes                    3.000000   \n",
              "2                            Sometimes    no                    2.000000   \n",
              "3                            Sometimes    no                    2.000000   \n",
              "4                            Sometimes    no                    2.000000   \n",
              "...                                ...   ...                         ...   \n",
              "2106                         Sometimes    no                    1.728139   \n",
              "2107                         Sometimes    no                    2.005130   \n",
              "2108                         Sometimes    no                    2.054193   \n",
              "2109                         Sometimes    no                    2.852339   \n",
              "2110                         Sometimes    no                    2.863513   \n",
              "\n",
              "     Calories consumption monitoring  Physical activity frequency  \\\n",
              "0                                 no                     0.000000   \n",
              "1                                yes                     3.000000   \n",
              "2                                 no                     2.000000   \n",
              "3                                 no                     2.000000   \n",
              "4                                 no                     0.000000   \n",
              "...                              ...                          ...   \n",
              "2106                              no                     1.676269   \n",
              "2107                              no                     1.341390   \n",
              "2108                              no                     1.414209   \n",
              "2109                              no                     1.139107   \n",
              "2110                              no                     1.026452   \n",
              "\n",
              "      Time using technology devices Consumption of alcohol  \\\n",
              "0                          1.000000                     no   \n",
              "1                          0.000000              Sometimes   \n",
              "2                          1.000000             Frequently   \n",
              "3                          0.000000             Frequently   \n",
              "4                          0.000000              Sometimes   \n",
              "...                             ...                    ...   \n",
              "2106                       0.906247              Sometimes   \n",
              "2107                       0.599270              Sometimes   \n",
              "2108                       0.646288              Sometimes   \n",
              "2109                       0.586035              Sometimes   \n",
              "2110                       0.714137              Sometimes   \n",
              "\n",
              "        Transportation used              Obesity  \n",
              "0     Public_Transportation        Normal_Weight  \n",
              "1     Public_Transportation        Normal_Weight  \n",
              "2     Public_Transportation        Normal_Weight  \n",
              "3                   Walking   Overweight_Level_I  \n",
              "4     Public_Transportation  Overweight_Level_II  \n",
              "...                     ...                  ...  \n",
              "2106  Public_Transportation     Obesity_Type_III  \n",
              "2107  Public_Transportation     Obesity_Type_III  \n",
              "2108  Public_Transportation     Obesity_Type_III  \n",
              "2109  Public_Transportation     Obesity_Type_III  \n",
              "2110  Public_Transportation     Obesity_Type_III  \n",
              "\n",
              "[2111 rows x 17 columns]"
            ],
            "text/html": [
              "\n",
              "  <div id=\"df-fccdde1e-4c9e-46f9-a50e-7e5888db13ca\">\n",
              "    <div class=\"colab-df-container\">\n",
              "      <div>\n",
              "<style scoped>\n",
              "    .dataframe tbody tr th:only-of-type {\n",
              "        vertical-align: middle;\n",
              "    }\n",
              "\n",
              "    .dataframe tbody tr th {\n",
              "        vertical-align: top;\n",
              "    }\n",
              "\n",
              "    .dataframe thead th {\n",
              "        text-align: right;\n",
              "    }\n",
              "</style>\n",
              "<table border=\"1\" class=\"dataframe\">\n",
              "  <thead>\n",
              "    <tr style=\"text-align: right;\">\n",
              "      <th></th>\n",
              "      <th>Gender</th>\n",
              "      <th>Age</th>\n",
              "      <th>Height</th>\n",
              "      <th>Weight</th>\n",
              "      <th>Family History with Overweight</th>\n",
              "      <th>Frequent consumption of high caloric food</th>\n",
              "      <th>Frequency of consumption of vegetables</th>\n",
              "      <th>Number of main meals</th>\n",
              "      <th>Consumption of food between meals</th>\n",
              "      <th>Smoke</th>\n",
              "      <th>Consumption of water daily</th>\n",
              "      <th>Calories consumption monitoring</th>\n",
              "      <th>Physical activity frequency</th>\n",
              "      <th>Time using technology devices</th>\n",
              "      <th>Consumption of alcohol</th>\n",
              "      <th>Transportation used</th>\n",
              "      <th>Obesity</th>\n",
              "    </tr>\n",
              "  </thead>\n",
              "  <tbody>\n",
              "    <tr>\n",
              "      <th>0</th>\n",
              "      <td>Female</td>\n",
              "      <td>21</td>\n",
              "      <td>1.620000</td>\n",
              "      <td>64.000000</td>\n",
              "      <td>yes</td>\n",
              "      <td>no</td>\n",
              "      <td>2</td>\n",
              "      <td>3</td>\n",
              "      <td>Sometimes</td>\n",
              "      <td>no</td>\n",
              "      <td>2.000000</td>\n",
              "      <td>no</td>\n",
              "      <td>0.000000</td>\n",
              "      <td>1.000000</td>\n",
              "      <td>no</td>\n",
              "      <td>Public_Transportation</td>\n",
              "      <td>Normal_Weight</td>\n",
              "    </tr>\n",
              "    <tr>\n",
              "      <th>1</th>\n",
              "      <td>Female</td>\n",
              "      <td>21</td>\n",
              "      <td>1.520000</td>\n",
              "      <td>56.000000</td>\n",
              "      <td>yes</td>\n",
              "      <td>no</td>\n",
              "      <td>3</td>\n",
              "      <td>3</td>\n",
              "      <td>Sometimes</td>\n",
              "      <td>yes</td>\n",
              "      <td>3.000000</td>\n",
              "      <td>yes</td>\n",
              "      <td>3.000000</td>\n",
              "      <td>0.000000</td>\n",
              "      <td>Sometimes</td>\n",
              "      <td>Public_Transportation</td>\n",
              "      <td>Normal_Weight</td>\n",
              "    </tr>\n",
              "    <tr>\n",
              "      <th>2</th>\n",
              "      <td>Male</td>\n",
              "      <td>23</td>\n",
              "      <td>1.800000</td>\n",
              "      <td>77.000000</td>\n",
              "      <td>yes</td>\n",
              "      <td>no</td>\n",
              "      <td>2</td>\n",
              "      <td>3</td>\n",
              "      <td>Sometimes</td>\n",
              "      <td>no</td>\n",
              "      <td>2.000000</td>\n",
              "      <td>no</td>\n",
              "      <td>2.000000</td>\n",
              "      <td>1.000000</td>\n",
              "      <td>Frequently</td>\n",
              "      <td>Public_Transportation</td>\n",
              "      <td>Normal_Weight</td>\n",
              "    </tr>\n",
              "    <tr>\n",
              "      <th>3</th>\n",
              "      <td>Male</td>\n",
              "      <td>27</td>\n",
              "      <td>1.800000</td>\n",
              "      <td>87.000000</td>\n",
              "      <td>no</td>\n",
              "      <td>no</td>\n",
              "      <td>3</td>\n",
              "      <td>3</td>\n",
              "      <td>Sometimes</td>\n",
              "      <td>no</td>\n",
              "      <td>2.000000</td>\n",
              "      <td>no</td>\n",
              "      <td>2.000000</td>\n",
              "      <td>0.000000</td>\n",
              "      <td>Frequently</td>\n",
              "      <td>Walking</td>\n",
              "      <td>Overweight_Level_I</td>\n",
              "    </tr>\n",
              "    <tr>\n",
              "      <th>4</th>\n",
              "      <td>Male</td>\n",
              "      <td>22</td>\n",
              "      <td>1.780000</td>\n",
              "      <td>89.800000</td>\n",
              "      <td>no</td>\n",
              "      <td>no</td>\n",
              "      <td>2</td>\n",
              "      <td>1</td>\n",
              "      <td>Sometimes</td>\n",
              "      <td>no</td>\n",
              "      <td>2.000000</td>\n",
              "      <td>no</td>\n",
              "      <td>0.000000</td>\n",
              "      <td>0.000000</td>\n",
              "      <td>Sometimes</td>\n",
              "      <td>Public_Transportation</td>\n",
              "      <td>Overweight_Level_II</td>\n",
              "    </tr>\n",
              "    <tr>\n",
              "      <th>...</th>\n",
              "      <td>...</td>\n",
              "      <td>...</td>\n",
              "      <td>...</td>\n",
              "      <td>...</td>\n",
              "      <td>...</td>\n",
              "      <td>...</td>\n",
              "      <td>...</td>\n",
              "      <td>...</td>\n",
              "      <td>...</td>\n",
              "      <td>...</td>\n",
              "      <td>...</td>\n",
              "      <td>...</td>\n",
              "      <td>...</td>\n",
              "      <td>...</td>\n",
              "      <td>...</td>\n",
              "      <td>...</td>\n",
              "      <td>...</td>\n",
              "    </tr>\n",
              "    <tr>\n",
              "      <th>2106</th>\n",
              "      <td>Female</td>\n",
              "      <td>21</td>\n",
              "      <td>1.710730</td>\n",
              "      <td>131.408528</td>\n",
              "      <td>yes</td>\n",
              "      <td>yes</td>\n",
              "      <td>3</td>\n",
              "      <td>3</td>\n",
              "      <td>Sometimes</td>\n",
              "      <td>no</td>\n",
              "      <td>1.728139</td>\n",
              "      <td>no</td>\n",
              "      <td>1.676269</td>\n",
              "      <td>0.906247</td>\n",
              "      <td>Sometimes</td>\n",
              "      <td>Public_Transportation</td>\n",
              "      <td>Obesity_Type_III</td>\n",
              "    </tr>\n",
              "    <tr>\n",
              "      <th>2107</th>\n",
              "      <td>Female</td>\n",
              "      <td>22</td>\n",
              "      <td>1.748584</td>\n",
              "      <td>133.742943</td>\n",
              "      <td>yes</td>\n",
              "      <td>yes</td>\n",
              "      <td>3</td>\n",
              "      <td>3</td>\n",
              "      <td>Sometimes</td>\n",
              "      <td>no</td>\n",
              "      <td>2.005130</td>\n",
              "      <td>no</td>\n",
              "      <td>1.341390</td>\n",
              "      <td>0.599270</td>\n",
              "      <td>Sometimes</td>\n",
              "      <td>Public_Transportation</td>\n",
              "      <td>Obesity_Type_III</td>\n",
              "    </tr>\n",
              "    <tr>\n",
              "      <th>2108</th>\n",
              "      <td>Female</td>\n",
              "      <td>23</td>\n",
              "      <td>1.752206</td>\n",
              "      <td>133.689352</td>\n",
              "      <td>yes</td>\n",
              "      <td>yes</td>\n",
              "      <td>3</td>\n",
              "      <td>3</td>\n",
              "      <td>Sometimes</td>\n",
              "      <td>no</td>\n",
              "      <td>2.054193</td>\n",
              "      <td>no</td>\n",
              "      <td>1.414209</td>\n",
              "      <td>0.646288</td>\n",
              "      <td>Sometimes</td>\n",
              "      <td>Public_Transportation</td>\n",
              "      <td>Obesity_Type_III</td>\n",
              "    </tr>\n",
              "    <tr>\n",
              "      <th>2109</th>\n",
              "      <td>Female</td>\n",
              "      <td>24</td>\n",
              "      <td>1.739450</td>\n",
              "      <td>133.346641</td>\n",
              "      <td>yes</td>\n",
              "      <td>yes</td>\n",
              "      <td>3</td>\n",
              "      <td>3</td>\n",
              "      <td>Sometimes</td>\n",
              "      <td>no</td>\n",
              "      <td>2.852339</td>\n",
              "      <td>no</td>\n",
              "      <td>1.139107</td>\n",
              "      <td>0.586035</td>\n",
              "      <td>Sometimes</td>\n",
              "      <td>Public_Transportation</td>\n",
              "      <td>Obesity_Type_III</td>\n",
              "    </tr>\n",
              "    <tr>\n",
              "      <th>2110</th>\n",
              "      <td>Female</td>\n",
              "      <td>24</td>\n",
              "      <td>1.738836</td>\n",
              "      <td>133.472641</td>\n",
              "      <td>yes</td>\n",
              "      <td>yes</td>\n",
              "      <td>3</td>\n",
              "      <td>3</td>\n",
              "      <td>Sometimes</td>\n",
              "      <td>no</td>\n",
              "      <td>2.863513</td>\n",
              "      <td>no</td>\n",
              "      <td>1.026452</td>\n",
              "      <td>0.714137</td>\n",
              "      <td>Sometimes</td>\n",
              "      <td>Public_Transportation</td>\n",
              "      <td>Obesity_Type_III</td>\n",
              "    </tr>\n",
              "  </tbody>\n",
              "</table>\n",
              "<p>2111 rows × 17 columns</p>\n",
              "</div>\n",
              "      <button class=\"colab-df-convert\" onclick=\"convertToInteractive('df-fccdde1e-4c9e-46f9-a50e-7e5888db13ca')\"\n",
              "              title=\"Convert this dataframe to an interactive table.\"\n",
              "              style=\"display:none;\">\n",
              "        \n",
              "  <svg xmlns=\"http://www.w3.org/2000/svg\" height=\"24px\"viewBox=\"0 0 24 24\"\n",
              "       width=\"24px\">\n",
              "    <path d=\"M0 0h24v24H0V0z\" fill=\"none\"/>\n",
              "    <path d=\"M18.56 5.44l.94 2.06.94-2.06 2.06-.94-2.06-.94-.94-2.06-.94 2.06-2.06.94zm-11 1L8.5 8.5l.94-2.06 2.06-.94-2.06-.94L8.5 2.5l-.94 2.06-2.06.94zm10 10l.94 2.06.94-2.06 2.06-.94-2.06-.94-.94-2.06-.94 2.06-2.06.94z\"/><path d=\"M17.41 7.96l-1.37-1.37c-.4-.4-.92-.59-1.43-.59-.52 0-1.04.2-1.43.59L10.3 9.45l-7.72 7.72c-.78.78-.78 2.05 0 2.83L4 21.41c.39.39.9.59 1.41.59.51 0 1.02-.2 1.41-.59l7.78-7.78 2.81-2.81c.8-.78.8-2.07 0-2.86zM5.41 20L4 18.59l7.72-7.72 1.47 1.35L5.41 20z\"/>\n",
              "  </svg>\n",
              "      </button>\n",
              "      \n",
              "  <style>\n",
              "    .colab-df-container {\n",
              "      display:flex;\n",
              "      flex-wrap:wrap;\n",
              "      gap: 12px;\n",
              "    }\n",
              "\n",
              "    .colab-df-convert {\n",
              "      background-color: #E8F0FE;\n",
              "      border: none;\n",
              "      border-radius: 50%;\n",
              "      cursor: pointer;\n",
              "      display: none;\n",
              "      fill: #1967D2;\n",
              "      height: 32px;\n",
              "      padding: 0 0 0 0;\n",
              "      width: 32px;\n",
              "    }\n",
              "\n",
              "    .colab-df-convert:hover {\n",
              "      background-color: #E2EBFA;\n",
              "      box-shadow: 0px 1px 2px rgba(60, 64, 67, 0.3), 0px 1px 3px 1px rgba(60, 64, 67, 0.15);\n",
              "      fill: #174EA6;\n",
              "    }\n",
              "\n",
              "    [theme=dark] .colab-df-convert {\n",
              "      background-color: #3B4455;\n",
              "      fill: #D2E3FC;\n",
              "    }\n",
              "\n",
              "    [theme=dark] .colab-df-convert:hover {\n",
              "      background-color: #434B5C;\n",
              "      box-shadow: 0px 1px 3px 1px rgba(0, 0, 0, 0.15);\n",
              "      filter: drop-shadow(0px 1px 2px rgba(0, 0, 0, 0.3));\n",
              "      fill: #FFFFFF;\n",
              "    }\n",
              "  </style>\n",
              "\n",
              "      <script>\n",
              "        const buttonEl =\n",
              "          document.querySelector('#df-fccdde1e-4c9e-46f9-a50e-7e5888db13ca button.colab-df-convert');\n",
              "        buttonEl.style.display =\n",
              "          google.colab.kernel.accessAllowed ? 'block' : 'none';\n",
              "\n",
              "        async function convertToInteractive(key) {\n",
              "          const element = document.querySelector('#df-fccdde1e-4c9e-46f9-a50e-7e5888db13ca');\n",
              "          const dataTable =\n",
              "            await google.colab.kernel.invokeFunction('convertToInteractive',\n",
              "                                                     [key], {});\n",
              "          if (!dataTable) return;\n",
              "\n",
              "          const docLinkHtml = 'Like what you see? Visit the ' +\n",
              "            '<a target=\"_blank\" href=https://colab.research.google.com/notebooks/data_table.ipynb>data table notebook</a>'\n",
              "            + ' to learn more about interactive tables.';\n",
              "          element.innerHTML = '';\n",
              "          dataTable['output_type'] = 'display_data';\n",
              "          await google.colab.output.renderOutput(dataTable, element);\n",
              "          const docLink = document.createElement('div');\n",
              "          docLink.innerHTML = docLinkHtml;\n",
              "          element.appendChild(docLink);\n",
              "        }\n",
              "      </script>\n",
              "    </div>\n",
              "  </div>\n",
              "  "
            ]
          },
          "metadata": {},
          "execution_count": 160
        }
      ],
      "source": [
        "df"
      ]
    },
    {
      "cell_type": "code",
      "execution_count": 161,
      "id": "9235a797",
      "metadata": {
        "id": "9235a797",
        "outputId": "3326f80c-88ac-420a-e947-39a6b5650d2c",
        "colab": {
          "base_uri": "https://localhost:8080/",
          "height": 458
        }
      },
      "outputs": [
        {
          "output_type": "execute_result",
          "data": {
            "text/plain": [
              "Male      1068\n",
              "Female    1043\n",
              "Name: Gender, dtype: int64"
            ]
          },
          "metadata": {},
          "execution_count": 161
        },
        {
          "output_type": "display_data",
          "data": {
            "text/plain": [
              "<Figure size 640x480 with 1 Axes>"
            ],
            "image/png": "[encoded data removed]"
          },
          "metadata": {}
        }
      ],
      "source": [
        "df['Gender'].value_counts().plot(kind ='pie')\n",
        "df['Gender'].value_counts()"
      ]
    },
    {
      "cell_type": "code",
      "execution_count": 162,
      "id": "48ff5b9c",
      "metadata": {
        "id": "48ff5b9c",
        "outputId": "0fecb608-3ec2-48ea-98dd-27ccf2e26552",
        "colab": {
          "base_uri": "https://localhost:8080/",
          "height": 493
        }
      },
      "outputs": [
        {
          "output_type": "execute_result",
          "data": {
            "text/plain": [
              "Sometimes     1401\n",
              "no             639\n",
              "Frequently      70\n",
              "Always           1\n",
              "Name: Consumption of alcohol, dtype: int64"
            ]
          },
          "metadata": {},
          "execution_count": 162
        },
        {
          "output_type": "display_data",
          "data": {
            "text/plain": [
              "<Figure size 640x480 with 1 Axes>"
            ],
            "image/png": "[encoded data removed]"
          },
          "metadata": {}
        }
      ],
      "source": [
        "df['Consumption of alcohol'].value_counts().plot(kind ='pie')\n",
        "df['Consumption of alcohol'].value_counts()"
      ]
    },
    {
      "cell_type": "code",
      "execution_count": 163,
      "id": "1cc366b3",
      "metadata": {
        "id": "1cc366b3",
        "outputId": "8ab56bab-fb0a-4f95-9702-365d16ca61de",
        "colab": {
          "base_uri": "https://localhost:8080/",
          "height": 545
        }
      },
      "outputs": [
        {
          "output_type": "execute_result",
          "data": {
            "text/plain": [
              "Obesity_Type_I         351\n",
              "Obesity_Type_III       324\n",
              "Obesity_Type_II        297\n",
              "Overweight_Level_I     290\n",
              "Overweight_Level_II    290\n",
              "Normal_Weight          287\n",
              "Insufficient_Weight    272\n",
              "Name: Obesity, dtype: int64"
            ]
          },
          "metadata": {},
          "execution_count": 163
        },
        {
          "output_type": "display_data",
          "data": {
            "text/plain": [
              "<Figure size 640x480 with 1 Axes>"
            ],
            "image/png": "[encoded data removed]"
          },
          "metadata": {}
        }
      ],
      "source": [
        "df['Obesity'].value_counts().plot(kind='pie')\n",
        "df['Obesity'].value_counts()"
      ]
    },
    {
      "cell_type": "code",
      "execution_count": 164,
      "id": "a30b6f8d",
      "metadata": {
        "id": "a30b6f8d",
        "outputId": "7265c60f-50bc-49eb-af8c-271645dff5f5",
        "colab": {
          "base_uri": "https://localhost:8080/",
          "height": 447
        }
      },
      "outputs": [
        {
          "output_type": "execute_result",
          "data": {
            "text/plain": [
              "<Axes: ylabel='Frequency'>"
            ]
          },
          "metadata": {},
          "execution_count": 164
        },
        {
          "output_type": "display_data",
          "data": {
            "text/plain": [
              "<Figure size 640x480 with 1 Axes>"
            ],
            "image/png": "[encoded data removed]"
          },
          "metadata": {}
        }
      ],
      "source": [
        "df['Age'].plot(kind = 'hist')"
      ]
    },
    {
      "cell_type": "code",
      "execution_count": 165,
      "id": "5855b121",
      "metadata": {
        "id": "5855b121",
        "outputId": "b1b612d5-690f-428f-835b-440edf20b9a1",
        "colab": {
          "base_uri": "https://localhost:8080/",
          "height": 572
        }
      },
      "outputs": [
        {
          "output_type": "execute_result",
          "data": {
            "text/plain": [
              "<Axes: >"
            ]
          },
          "metadata": {},
          "execution_count": 165
        },
        {
          "output_type": "display_data",
          "data": {
            "text/plain": [
              "<Figure size 640x480 with 1 Axes>"
            ],
            "image/png": "[encoded data removed]"
          },
          "metadata": {}
        }
      ],
      "source": [
        "# obesity type in females\n",
        "df[df['Gender'] == 'Female']['Obesity'].value_counts().plot(kind = 'bar')\n",
        "\n",
        "# we can see obesity type 3 is more in females followed by insufficent weight"
      ]
    },
    {
      "cell_type": "code",
      "execution_count": 166,
      "id": "953deb7c",
      "metadata": {
        "id": "953deb7c",
        "outputId": "7973c905-9ec8-41da-b192-541a082eb36c",
        "colab": {
          "base_uri": "https://localhost:8080/",
          "height": 572
        }
      },
      "outputs": [
        {
          "output_type": "execute_result",
          "data": {
            "text/plain": [
              "<Axes: >"
            ]
          },
          "metadata": {},
          "execution_count": 166
        },
        {
          "output_type": "display_data",
          "data": {
            "text/plain": [
              "<Figure size 640x480 with 1 Axes>"
            ],
            "image/png": "[encoded data removed]"
          },
          "metadata": {}
        }
      ],
      "source": [
        "# obesity type in males\n",
        "df[df['Gender'] == 'Male']['Obesity'].value_counts().plot(kind = 'bar')\n",
        "\n",
        "## we can see obesity type 2 is more in males followed by obesity type 1"
      ]
    },
    {
      "cell_type": "code",
      "execution_count": 167,
      "id": "4dd08e34",
      "metadata": {
        "id": "4dd08e34"
      },
      "outputs": [],
      "source": [
        "# female_obesity = df['Gender'] == 'Female'\n",
        "# ob = df['Obesity'] == 'Normal_Weight'\n",
        "# df[female_obesity & ob]['Obesity'].value_counts()\n",
        "\n",
        "# function to find obesity type by gender\n",
        "# def obesity_type_by_gender(gender,obesity_type):\n",
        "#     gender_obe = df['Gender'] == gender\n",
        "#     ob = df['Obesity'] == obesity_type\n",
        "#     return df[gender_obe & ob]\n",
        "# female_obe3 = obesity_type_by_gender('Female','Obesity_Type_III')\n",
        "# female_obe3"
      ]
    },
    {
      "cell_type": "code",
      "execution_count": 168,
      "id": "767da21f",
      "metadata": {
        "id": "767da21f",
        "outputId": "d0367e06-9266-4053-df1e-5b137f3c199c",
        "colab": {
          "base_uri": "https://localhost:8080/",
          "height": 0
        }
      },
      "outputs": [
        {
          "output_type": "execute_result",
          "data": {
            "text/plain": [
              "Male      1068\n",
              "Female    1043\n",
              "Name: Gender, dtype: int64"
            ]
          },
          "metadata": {},
          "execution_count": 168
        }
      ],
      "source": [
        "df['Gender'] == 'Female'\n",
        "df['Gender'].value_counts()"
      ]
    },
    {
      "cell_type": "code",
      "execution_count": 169,
      "id": "e12ce197",
      "metadata": {
        "id": "e12ce197",
        "outputId": "413383e8-0ad8-4fd8-c9ae-43d8fbdbecdc",
        "colab": {
          "base_uri": "https://localhost:8080/",
          "height": 0
        }
      },
      "outputs": [
        {
          "output_type": "execute_result",
          "data": {
            "text/plain": [
              "no     2067\n",
              "yes      44\n",
              "Name: Smoke, dtype: int64"
            ]
          },
          "metadata": {},
          "execution_count": 169
        }
      ],
      "source": [
        "df['Smoke'].value_counts()"
      ]
    },
    {
      "cell_type": "code",
      "execution_count": 170,
      "id": "33e1b13c",
      "metadata": {
        "id": "33e1b13c",
        "outputId": "3810b80f-91a4-4611-b1fb-f703aa6e0480",
        "colab": {
          "base_uri": "https://localhost:8080/",
          "height": 512
        }
      },
      "outputs": [
        {
          "output_type": "execute_result",
          "data": {
            "text/plain": [
              "3    1362\n",
              "1     395\n",
              "2     285\n",
              "4      69\n",
              "Name: Number of main meals, dtype: int64"
            ]
          },
          "metadata": {},
          "execution_count": 170
        },
        {
          "output_type": "display_data",
          "data": {
            "text/plain": [
              "<Figure size 640x480 with 1 Axes>"
            ],
            "image/png": "[encoded data removed]"
          },
          "metadata": {}
        }
      ],
      "source": [
        "df['Number of main meals']\n",
        "df['Number of main meals'].dtype\n",
        "df['Number of main meals'].value_counts().plot(kind = 'bar')\n",
        "df['Number of main meals'].value_counts()"
      ]
    },
    {
      "cell_type": "code",
      "execution_count": 171,
      "id": "221060f5",
      "metadata": {
        "id": "221060f5",
        "outputId": "c0be9809-2b88-4c75-8aa8-0f03715b1804",
        "colab": {
          "base_uri": "https://localhost:8080/",
          "height": 545
        }
      },
      "outputs": [
        {
          "output_type": "execute_result",
          "data": {
            "text/plain": [
              "Obesity_Type_III       324\n",
              "Normal_Weight          206\n",
              "Obesity_Type_II        185\n",
              "Obesity_Type_I         180\n",
              "Insufficient_Weight    175\n",
              "Overweight_Level_I     156\n",
              "Overweight_Level_II    136\n",
              "Name: Obesity, dtype: int64"
            ]
          },
          "metadata": {},
          "execution_count": 171
        },
        {
          "output_type": "display_data",
          "data": {
            "text/plain": [
              "<Figure size 640x480 with 1 Axes>"
            ],
            "image/png": "[encoded data removed]"
          },
          "metadata": {}
        }
      ],
      "source": [
        "# for people having 3 main meals\n",
        "no_main_meals_3 = df['Number of main meals'] == 3\n",
        "df[no_main_meals_3]['Obesity'].value_counts().plot(kind = 'pie')\n",
        "df[no_main_meals_3]['Obesity'].value_counts()"
      ]
    },
    {
      "cell_type": "code",
      "execution_count": 172,
      "id": "b31ceb90",
      "metadata": {
        "id": "b31ceb90",
        "outputId": "b9d01fbe-d686-48ff-f984-87a5996cde3b",
        "colab": {
          "base_uri": "https://localhost:8080/",
          "height": 527
        }
      },
      "outputs": [
        {
          "output_type": "execute_result",
          "data": {
            "text/plain": [
              "Obesity_Type_I         100\n",
              "Overweight_Level_I      86\n",
              "Overweight_Level_II     75\n",
              "Normal_Weight           52\n",
              "Insufficient_Weight     49\n",
              "Obesity_Type_II         33\n",
              "Name: Obesity, dtype: int64"
            ]
          },
          "metadata": {},
          "execution_count": 172
        },
        {
          "output_type": "display_data",
          "data": {
            "text/plain": [
              "<Figure size 640x480 with 1 Axes>"
            ],
            "image/png": "[encoded data removed]"
          },
          "metadata": {}
        }
      ],
      "source": [
        "# for 1 main meal\n",
        "no_main_meals_1 = df['Number of main meals'] == 1\n",
        "df[no_main_meals_1]['Obesity'].value_counts().plot(kind = 'pie')\n",
        "df[no_main_meals_1]['Obesity'].value_counts()"
      ]
    },
    {
      "cell_type": "code",
      "execution_count": 173,
      "id": "6d01164d",
      "metadata": {
        "id": "6d01164d",
        "outputId": "55f2a5d5-1274-422f-ffa5-89ccd96150d9",
        "colab": {
          "base_uri": "https://localhost:8080/",
          "height": 510
        }
      },
      "outputs": [
        {
          "output_type": "execute_result",
          "data": {
            "text/plain": [
              "Normal_Weight          29\n",
              "Insufficient_Weight    29\n",
              "Overweight_Level_I      8\n",
              "Overweight_Level_II     2\n",
              "Obesity_Type_II         1\n",
              "Name: Obesity, dtype: int64"
            ]
          },
          "metadata": {},
          "execution_count": 173
        },
        {
          "output_type": "display_data",
          "data": {
            "text/plain": [
              "<Figure size 640x480 with 1 Axes>"
            ],
            "image/png": "[encoded data removed]"
          },
          "metadata": {}
        }
      ],
      "source": [
        "# for 4 main meal\n",
        "no_main_meals_4 = df['Number of main meals'] == 4\n",
        "df[no_main_meals_4]['Obesity'].value_counts().plot(kind = 'pie')\n",
        "df[no_main_meals_4]['Obesity'].value_counts()"
      ]
    },
    {
      "cell_type": "code",
      "execution_count": 174,
      "id": "9197970e",
      "metadata": {
        "id": "9197970e",
        "outputId": "683b82e4-12f5-40bf-f818-82b5647bdde4",
        "colab": {
          "base_uri": "https://localhost:8080/",
          "height": 510
        }
      },
      "outputs": [
        {
          "output_type": "execute_result",
          "data": {
            "text/plain": [
              "Obesity_Type_II        78\n",
              "Overweight_Level_II    77\n",
              "Obesity_Type_I         71\n",
              "Overweight_Level_I     40\n",
              "Insufficient_Weight    19\n",
              "Name: Obesity, dtype: int64"
            ]
          },
          "metadata": {},
          "execution_count": 174
        },
        {
          "output_type": "display_data",
          "data": {
            "text/plain": [
              "<Figure size 640x480 with 1 Axes>"
            ],
            "image/png": "[encoded data removed]"
          },
          "metadata": {}
        }
      ],
      "source": [
        "# for 2 main meal\n",
        "no_main_meals_2 = df['Number of main meals'] == 2\n",
        "df[no_main_meals_2]['Obesity'].value_counts().plot(kind = 'pie')\n",
        "df[no_main_meals_2]['Obesity'].value_counts()"
      ]
    },
    {
      "cell_type": "code",
      "execution_count": 175,
      "id": "41e8a714",
      "metadata": {
        "id": "41e8a714",
        "outputId": "144bf04a-59b5-4669-c3b3-c72514b54e4c",
        "colab": {
          "base_uri": "https://localhost:8080/",
          "height": 433
        }
      },
      "outputs": [
        {
          "output_type": "stream",
          "name": "stderr",
          "text": [
            "<ipython-input-175-9a7c681f97c5>:3: FutureWarning: The default value of numeric_only in DataFrame.corr is deprecated. In a future version, it will default to False. Select only valid columns or specify the value of numeric_only to silence this warning.\n",
            "  corr = df.corr()\n"
          ]
        },
        {
          "output_type": "execute_result",
          "data": {
            "text/plain": [
              "                                             Age    Height    Weight  \\\n",
              "Age                                     1.000000 -0.026184  0.203452   \n",
              "Height                                 -0.026184  1.000000  0.463136   \n",
              "Weight                                  0.203452  0.463136  1.000000   \n",
              "Frequency of consumption of vegetables -0.016192 -0.070032  0.201087   \n",
              "Number of main meals                   -0.070768  0.214633  0.126058   \n",
              "Consumption of water daily             -0.045605  0.213376  0.200575   \n",
              "Physical activity frequency            -0.145147  0.294709 -0.051436   \n",
              "Time using technology devices          -0.296601  0.051912 -0.071561   \n",
              "\n",
              "                                        Frequency of consumption of vegetables  \\\n",
              "Age                                                                  -0.016192   \n",
              "Height                                                               -0.070032   \n",
              "Weight                                                                0.201087   \n",
              "Frequency of consumption of vegetables                                1.000000   \n",
              "Number of main meals                                                  0.138510   \n",
              "Consumption of water daily                                            0.101429   \n",
              "Physical activity frequency                                          -0.009630   \n",
              "Time using technology devices                                        -0.115745   \n",
              "\n",
              "                                        Number of main meals  \\\n",
              "Age                                                -0.070768   \n",
              "Height                                              0.214633   \n",
              "Weight                                              0.126058   \n",
              "Frequency of consumption of vegetables              0.138510   \n",
              "Number of main meals                                1.000000   \n",
              "Consumption of water daily                          0.066163   \n",
              "Physical activity frequency                         0.107412   \n",
              "Time using technology devices                       0.036985   \n",
              "\n",
              "                                        Consumption of water daily  \\\n",
              "Age                                                      -0.045605   \n",
              "Height                                                    0.213376   \n",
              "Weight                                                    0.200575   \n",
              "Frequency of consumption of vegetables                    0.101429   \n",
              "Number of main meals                                      0.066163   \n",
              "Consumption of water daily                                1.000000   \n",
              "Physical activity frequency                               0.167236   \n",
              "Time using technology devices                             0.011965   \n",
              "\n",
              "                                        Physical activity frequency  \\\n",
              "Age                                                       -0.145147   \n",
              "Height                                                     0.294709   \n",
              "Weight                                                    -0.051436   \n",
              "Frequency of consumption of vegetables                    -0.009630   \n",
              "Number of main meals                                       0.107412   \n",
              "Consumption of water daily                                 0.167236   \n",
              "Physical activity frequency                                1.000000   \n",
              "Time using technology devices                              0.058562   \n",
              "\n",
              "                                        Time using technology devices  \n",
              "Age                                                         -0.296601  \n",
              "Height                                                       0.051912  \n",
              "Weight                                                      -0.071561  \n",
              "Frequency of consumption of vegetables                      -0.115745  \n",
              "Number of main meals                                         0.036985  \n",
              "Consumption of water daily                                   0.011965  \n",
              "Physical activity frequency                                  0.058562  \n",
              "Time using technology devices                                1.000000  "
            ],
            "text/html": [
              "\n",
              "  <div id=\"df-d5b35d6f-340f-4756-9d50-289e3cdbdff5\">\n",
              "    <div class=\"colab-df-container\">\n",
              "      <div>\n",
              "<style scoped>\n",
              "    .dataframe tbody tr th:only-of-type {\n",
              "        vertical-align: middle;\n",
              "    }\n",
              "\n",
              "    .dataframe tbody tr th {\n",
              "        vertical-align: top;\n",
              "    }\n",
              "\n",
              "    .dataframe thead th {\n",
              "        text-align: right;\n",
              "    }\n",
              "</style>\n",
              "<table border=\"1\" class=\"dataframe\">\n",
              "  <thead>\n",
              "    <tr style=\"text-align: right;\">\n",
              "      <th></th>\n",
              "      <th>Age</th>\n",
              "      <th>Height</th>\n",
              "      <th>Weight</th>\n",
              "      <th>Frequency of consumption of vegetables</th>\n",
              "      <th>Number of main meals</th>\n",
              "      <th>Consumption of water daily</th>\n",
              "      <th>Physical activity frequency</th>\n",
              "      <th>Time using technology devices</th>\n",
              "    </tr>\n",
              "  </thead>\n",
              "  <tbody>\n",
              "    <tr>\n",
              "      <th>Age</th>\n",
              "      <td>1.000000</td>\n",
              "      <td>-0.026184</td>\n",
              "      <td>0.203452</td>\n",
              "      <td>-0.016192</td>\n",
              "      <td>-0.070768</td>\n",
              "      <td>-0.045605</td>\n",
              "      <td>-0.145147</td>\n",
              "      <td>-0.296601</td>\n",
              "    </tr>\n",
              "    <tr>\n",
              "      <th>Height</th>\n",
              "      <td>-0.026184</td>\n",
              "      <td>1.000000</td>\n",
              "      <td>0.463136</td>\n",
              "      <td>-0.070032</td>\n",
              "      <td>0.214633</td>\n",
              "      <td>0.213376</td>\n",
              "      <td>0.294709</td>\n",
              "      <td>0.051912</td>\n",
              "    </tr>\n",
              "    <tr>\n",
              "      <th>Weight</th>\n",
              "      <td>0.203452</td>\n",
              "      <td>0.463136</td>\n",
              "      <td>1.000000</td>\n",
              "      <td>0.201087</td>\n",
              "      <td>0.126058</td>\n",
              "      <td>0.200575</td>\n",
              "      <td>-0.051436</td>\n",
              "      <td>-0.071561</td>\n",
              "    </tr>\n",
              "    <tr>\n",
              "      <th>Frequency of consumption of vegetables</th>\n",
              "      <td>-0.016192</td>\n",
              "      <td>-0.070032</td>\n",
              "      <td>0.201087</td>\n",
              "      <td>1.000000</td>\n",
              "      <td>0.138510</td>\n",
              "      <td>0.101429</td>\n",
              "      <td>-0.009630</td>\n",
              "      <td>-0.115745</td>\n",
              "    </tr>\n",
              "    <tr>\n",
              "      <th>Number of main meals</th>\n",
              "      <td>-0.070768</td>\n",
              "      <td>0.214633</td>\n",
              "      <td>0.126058</td>\n",
              "      <td>0.138510</td>\n",
              "      <td>1.000000</td>\n",
              "      <td>0.066163</td>\n",
              "      <td>0.107412</td>\n",
              "      <td>0.036985</td>\n",
              "    </tr>\n",
              "    <tr>\n",
              "      <th>Consumption of water daily</th>\n",
              "      <td>-0.045605</td>\n",
              "      <td>0.213376</td>\n",
              "      <td>0.200575</td>\n",
              "      <td>0.101429</td>\n",
              "      <td>0.066163</td>\n",
              "      <td>1.000000</td>\n",
              "      <td>0.167236</td>\n",
              "      <td>0.011965</td>\n",
              "    </tr>\n",
              "    <tr>\n",
              "      <th>Physical activity frequency</th>\n",
              "      <td>-0.145147</td>\n",
              "      <td>0.294709</td>\n",
              "      <td>-0.051436</td>\n",
              "      <td>-0.009630</td>\n",
              "      <td>0.107412</td>\n",
              "      <td>0.167236</td>\n",
              "      <td>1.000000</td>\n",
              "      <td>0.058562</td>\n",
              "    </tr>\n",
              "    <tr>\n",
              "      <th>Time using technology devices</th>\n",
              "      <td>-0.296601</td>\n",
              "      <td>0.051912</td>\n",
              "      <td>-0.071561</td>\n",
              "      <td>-0.115745</td>\n",
              "      <td>0.036985</td>\n",
              "      <td>0.011965</td>\n",
              "      <td>0.058562</td>\n",
              "      <td>1.000000</td>\n",
              "    </tr>\n",
              "  </tbody>\n",
              "</table>\n",
              "</div>\n",
              "      <button class=\"colab-df-convert\" onclick=\"convertToInteractive('df-d5b35d6f-340f-4756-9d50-289e3cdbdff5')\"\n",
              "              title=\"Convert this dataframe to an interactive table.\"\n",
              "              style=\"display:none;\">\n",
              "        \n",
              "  <svg xmlns=\"http://www.w3.org/2000/svg\" height=\"24px\"viewBox=\"0 0 24 24\"\n",
              "       width=\"24px\">\n",
              "    <path d=\"M0 0h24v24H0V0z\" fill=\"none\"/>\n",
              "    <path d=\"M18.56 5.44l.94 2.06.94-2.06 2.06-.94-2.06-.94-.94-2.06-.94 2.06-2.06.94zm-11 1L8.5 8.5l.94-2.06 2.06-.94-2.06-.94L8.5 2.5l-.94 2.06-2.06.94zm10 10l.94 2.06.94-2.06 2.06-.94-2.06-.94-.94-2.06-.94 2.06-2.06.94z\"/><path d=\"M17.41 7.96l-1.37-1.37c-.4-.4-.92-.59-1.43-.59-.52 0-1.04.2-1.43.59L10.3 9.45l-7.72 7.72c-.78.78-.78 2.05 0 2.83L4 21.41c.39.39.9.59 1.41.59.51 0 1.02-.2 1.41-.59l7.78-7.78 2.81-2.81c.8-.78.8-2.07 0-2.86zM5.41 20L4 18.59l7.72-7.72 1.47 1.35L5.41 20z\"/>\n",
              "  </svg>\n",
              "      </button>\n",
              "      \n",
              "  <style>\n",
              "    .colab-df-container {\n",
              "      display:flex;\n",
              "      flex-wrap:wrap;\n",
              "      gap: 12px;\n",
              "    }\n",
              "\n",
              "    .colab-df-convert {\n",
              "      background-color: #E8F0FE;\n",
              "      border: none;\n",
              "      border-radius: 50%;\n",
              "      cursor: pointer;\n",
              "      display: none;\n",
              "      fill: #1967D2;\n",
              "      height: 32px;\n",
              "      padding: 0 0 0 0;\n",
              "      width: 32px;\n",
              "    }\n",
              "\n",
              "    .colab-df-convert:hover {\n",
              "      background-color: #E2EBFA;\n",
              "      box-shadow: 0px 1px 2px rgba(60, 64, 67, 0.3), 0px 1px 3px 1px rgba(60, 64, 67, 0.15);\n",
              "      fill: #174EA6;\n",
              "    }\n",
              "\n",
              "    [theme=dark] .colab-df-convert {\n",
              "      background-color: #3B4455;\n",
              "      fill: #D2E3FC;\n",
              "    }\n",
              "\n",
              "    [theme=dark] .colab-df-convert:hover {\n",
              "      background-color: #434B5C;\n",
              "      box-shadow: 0px 1px 3px 1px rgba(0, 0, 0, 0.15);\n",
              "      filter: drop-shadow(0px 1px 2px rgba(0, 0, 0, 0.3));\n",
              "      fill: #FFFFFF;\n",
              "    }\n",
              "  </style>\n",
              "\n",
              "      <script>\n",
              "        const buttonEl =\n",
              "          document.querySelector('#df-d5b35d6f-340f-4756-9d50-289e3cdbdff5 button.colab-df-convert');\n",
              "        buttonEl.style.display =\n",
              "          google.colab.kernel.accessAllowed ? 'block' : 'none';\n",
              "\n",
              "        async function convertToInteractive(key) {\n",
              "          const element = document.querySelector('#df-d5b35d6f-340f-4756-9d50-289e3cdbdff5');\n",
              "          const dataTable =\n",
              "            await google.colab.kernel.invokeFunction('convertToInteractive',\n",
              "                                                     [key], {});\n",
              "          if (!dataTable) return;\n",
              "\n",
              "          const docLinkHtml = 'Like what you see? Visit the ' +\n",
              "            '<a target=\"_blank\" href=https://colab.research.google.com/notebooks/data_table.ipynb>data table notebook</a>'\n",
              "            + ' to learn more about interactive tables.';\n",
              "          element.innerHTML = '';\n",
              "          dataTable['output_type'] = 'display_data';\n",
              "          await google.colab.output.renderOutput(dataTable, element);\n",
              "          const docLink = document.createElement('div');\n",
              "          docLink.innerHTML = docLinkHtml;\n",
              "          element.appendChild(docLink);\n",
              "        }\n",
              "      </script>\n",
              "    </div>\n",
              "  </div>\n",
              "  "
            ]
          },
          "metadata": {},
          "execution_count": 175
        }
      ],
      "source": [
        "# correlations\n",
        "# corr = df.corr(method = 'pearson')\n",
        "corr = df.corr()\n",
        "corr"
      ]
    },
    {
      "cell_type": "code",
      "execution_count": 176,
      "id": "e532166c",
      "metadata": {
        "id": "e532166c",
        "outputId": "e45dad06-26ba-4906-f961-7e9d18d59ce4",
        "colab": {
          "base_uri": "https://localhost:8080/",
          "height": 776
        }
      },
      "outputs": [
        {
          "output_type": "stream",
          "name": "stderr",
          "text": [
            "<ipython-input-176-3ed5ac43de09>:1: FutureWarning: The default value of numeric_only in DataFrame.corr is deprecated. In a future version, it will default to False. Select only valid columns or specify the value of numeric_only to silence this warning.\n",
            "  sns.heatmap(df.corr(), annot = True,linewidths=.5)\n"
          ]
        },
        {
          "output_type": "execute_result",
          "data": {
            "text/plain": [
              "<Axes: >"
            ]
          },
          "metadata": {},
          "execution_count": 176
        },
        {
          "output_type": "display_data",
          "data": {
            "text/plain": [
              "<Figure size 640x480 with 2 Axes>"
            ],
            "image/png": "[encoded data removed]"
          },
          "metadata": {}
        }
      ],
      "source": [
        "sns.heatmap(df.corr(), annot = True,linewidths=.5)"
      ]
    },
    {
      "cell_type": "code",
      "execution_count": 177,
      "id": "5147305b",
      "metadata": {
        "id": "5147305b",
        "outputId": "3b1f7b22-ddab-4c63-efd3-0de4b7c99892",
        "colab": {
          "base_uri": "https://localhost:8080/",
          "height": 0
        }
      },
      "outputs": [
        {
          "output_type": "stream",
          "name": "stdout",
          "text": [
            "<class 'pandas.core.frame.DataFrame'>\n",
            "RangeIndex: 2111 entries, 0 to 2110\n",
            "Data columns (total 17 columns):\n",
            " #   Column                                     Non-Null Count  Dtype  \n",
            "---  ------                                     --------------  -----  \n",
            " 0   Gender                                     2111 non-null   object \n",
            " 1   Age                                        2111 non-null   int64  \n",
            " 2   Height                                     2111 non-null   float64\n",
            " 3   Weight                                     2111 non-null   float64\n",
            " 4   Family History with Overweight             2111 non-null   object \n",
            " 5   Frequent consumption of high caloric food  2111 non-null   object \n",
            " 6   Frequency of consumption of vegetables     2111 non-null   int64  \n",
            " 7   Number of main meals                       2111 non-null   int64  \n",
            " 8   Consumption of food between meals          2111 non-null   object \n",
            " 9   Smoke                                      2111 non-null   object \n",
            " 10  Consumption of water daily                 2111 non-null   float64\n",
            " 11  Calories consumption monitoring            2111 non-null   object \n",
            " 12  Physical activity frequency                2111 non-null   float64\n",
            " 13  Time using technology devices              2111 non-null   float64\n",
            " 14  Consumption of alcohol                     2111 non-null   object \n",
            " 15  Transportation used                        2111 non-null   object \n",
            " 16  Obesity                                    2111 non-null   object \n",
            "dtypes: float64(5), int64(3), object(9)\n",
            "memory usage: 280.5+ KB\n"
          ]
        }
      ],
      "source": [
        "df.info()"
      ]
    },
    {
      "cell_type": "code",
      "execution_count": 178,
      "id": "60cdfa1f",
      "metadata": {
        "scrolled": true,
        "id": "60cdfa1f",
        "outputId": "75ab9f6d-15c8-48d4-c1c1-0801cc9aff02",
        "colab": {
          "base_uri": "https://localhost:8080/",
          "height": 339
        }
      },
      "outputs": [
        {
          "output_type": "execute_result",
          "data": {
            "text/plain": [
              "      Gender  Age    Height      Weight Family History with Overweight  \\\n",
              "2106  Female   21  1.710730  131.408528                            yes   \n",
              "2107  Female   22  1.748584  133.742943                            yes   \n",
              "2108  Female   23  1.752206  133.689352                            yes   \n",
              "2109  Female   24  1.739450  133.346641                            yes   \n",
              "2110  Female   24  1.738836  133.472641                            yes   \n",
              "\n",
              "     Frequent consumption of high caloric food  \\\n",
              "2106                                       yes   \n",
              "2107                                       yes   \n",
              "2108                                       yes   \n",
              "2109                                       yes   \n",
              "2110                                       yes   \n",
              "\n",
              "      Frequency of consumption of vegetables  Number of main meals  \\\n",
              "2106                                       3                     3   \n",
              "2107                                       3                     3   \n",
              "2108                                       3                     3   \n",
              "2109                                       3                     3   \n",
              "2110                                       3                     3   \n",
              "\n",
              "     Consumption of food between meals Smoke  Consumption of water daily  \\\n",
              "2106                         Sometimes    no                    1.728139   \n",
              "2107                         Sometimes    no                    2.005130   \n",
              "2108                         Sometimes    no                    2.054193   \n",
              "2109                         Sometimes    no                    2.852339   \n",
              "2110                         Sometimes    no                    2.863513   \n",
              "\n",
              "     Calories consumption monitoring  Physical activity frequency  \\\n",
              "2106                              no                     1.676269   \n",
              "2107                              no                     1.341390   \n",
              "2108                              no                     1.414209   \n",
              "2109                              no                     1.139107   \n",
              "2110                              no                     1.026452   \n",
              "\n",
              "      Time using technology devices Consumption of alcohol  \\\n",
              "2106                       0.906247              Sometimes   \n",
              "2107                       0.599270              Sometimes   \n",
              "2108                       0.646288              Sometimes   \n",
              "2109                       0.586035              Sometimes   \n",
              "2110                       0.714137              Sometimes   \n",
              "\n",
              "        Transportation used           Obesity  \n",
              "2106  Public_Transportation  Obesity_Type_III  \n",
              "2107  Public_Transportation  Obesity_Type_III  \n",
              "2108  Public_Transportation  Obesity_Type_III  \n",
              "2109  Public_Transportation  Obesity_Type_III  \n",
              "2110  Public_Transportation  Obesity_Type_III  "
            ],
            "text/html": [
              "\n",
              "  <div id=\"df-f2085e96-a296-4d62-8102-06c9f3ca0223\">\n",
              "    <div class=\"colab-df-container\">\n",
              "      <div>\n",
              "<style scoped>\n",
              "    .dataframe tbody tr th:only-of-type {\n",
              "        vertical-align: middle;\n",
              "    }\n",
              "\n",
              "    .dataframe tbody tr th {\n",
              "        vertical-align: top;\n",
              "    }\n",
              "\n",
              "    .dataframe thead th {\n",
              "        text-align: right;\n",
              "    }\n",
              "</style>\n",
              "<table border=\"1\" class=\"dataframe\">\n",
              "  <thead>\n",
              "    <tr style=\"text-align: right;\">\n",
              "      <th></th>\n",
              "      <th>Gender</th>\n",
              "      <th>Age</th>\n",
              "      <th>Height</th>\n",
              "      <th>Weight</th>\n",
              "      <th>Family History with Overweight</th>\n",
              "      <th>Frequent consumption of high caloric food</th>\n",
              "      <th>Frequency of consumption of vegetables</th>\n",
              "      <th>Number of main meals</th>\n",
              "      <th>Consumption of food between meals</th>\n",
              "      <th>Smoke</th>\n",
              "      <th>Consumption of water daily</th>\n",
              "      <th>Calories consumption monitoring</th>\n",
              "      <th>Physical activity frequency</th>\n",
              "      <th>Time using technology devices</th>\n",
              "      <th>Consumption of alcohol</th>\n",
              "      <th>Transportation used</th>\n",
              "      <th>Obesity</th>\n",
              "    </tr>\n",
              "  </thead>\n",
              "  <tbody>\n",
              "    <tr>\n",
              "      <th>2106</th>\n",
              "      <td>Female</td>\n",
              "      <td>21</td>\n",
              "      <td>1.710730</td>\n",
              "      <td>131.408528</td>\n",
              "      <td>yes</td>\n",
              "      <td>yes</td>\n",
              "      <td>3</td>\n",
              "      <td>3</td>\n",
              "      <td>Sometimes</td>\n",
              "      <td>no</td>\n",
              "      <td>1.728139</td>\n",
              "      <td>no</td>\n",
              "      <td>1.676269</td>\n",
              "      <td>0.906247</td>\n",
              "      <td>Sometimes</td>\n",
              "      <td>Public_Transportation</td>\n",
              "      <td>Obesity_Type_III</td>\n",
              "    </tr>\n",
              "    <tr>\n",
              "      <th>2107</th>\n",
              "      <td>Female</td>\n",
              "      <td>22</td>\n",
              "      <td>1.748584</td>\n",
              "      <td>133.742943</td>\n",
              "      <td>yes</td>\n",
              "      <td>yes</td>\n",
              "      <td>3</td>\n",
              "      <td>3</td>\n",
              "      <td>Sometimes</td>\n",
              "      <td>no</td>\n",
              "      <td>2.005130</td>\n",
              "      <td>no</td>\n",
              "      <td>1.341390</td>\n",
              "      <td>0.599270</td>\n",
              "      <td>Sometimes</td>\n",
              "      <td>Public_Transportation</td>\n",
              "      <td>Obesity_Type_III</td>\n",
              "    </tr>\n",
              "    <tr>\n",
              "      <th>2108</th>\n",
              "      <td>Female</td>\n",
              "      <td>23</td>\n",
              "      <td>1.752206</td>\n",
              "      <td>133.689352</td>\n",
              "      <td>yes</td>\n",
              "      <td>yes</td>\n",
              "      <td>3</td>\n",
              "      <td>3</td>\n",
              "      <td>Sometimes</td>\n",
              "      <td>no</td>\n",
              "      <td>2.054193</td>\n",
              "      <td>no</td>\n",
              "      <td>1.414209</td>\n",
              "      <td>0.646288</td>\n",
              "      <td>Sometimes</td>\n",
              "      <td>Public_Transportation</td>\n",
              "      <td>Obesity_Type_III</td>\n",
              "    </tr>\n",
              "    <tr>\n",
              "      <th>2109</th>\n",
              "      <td>Female</td>\n",
              "      <td>24</td>\n",
              "      <td>1.739450</td>\n",
              "      <td>133.346641</td>\n",
              "      <td>yes</td>\n",
              "      <td>yes</td>\n",
              "      <td>3</td>\n",
              "      <td>3</td>\n",
              "      <td>Sometimes</td>\n",
              "      <td>no</td>\n",
              "      <td>2.852339</td>\n",
              "      <td>no</td>\n",
              "      <td>1.139107</td>\n",
              "      <td>0.586035</td>\n",
              "      <td>Sometimes</td>\n",
              "      <td>Public_Transportation</td>\n",
              "      <td>Obesity_Type_III</td>\n",
              "    </tr>\n",
              "    <tr>\n",
              "      <th>2110</th>\n",
              "      <td>Female</td>\n",
              "      <td>24</td>\n",
              "      <td>1.738836</td>\n",
              "      <td>133.472641</td>\n",
              "      <td>yes</td>\n",
              "      <td>yes</td>\n",
              "      <td>3</td>\n",
              "      <td>3</td>\n",
              "      <td>Sometimes</td>\n",
              "      <td>no</td>\n",
              "      <td>2.863513</td>\n",
              "      <td>no</td>\n",
              "      <td>1.026452</td>\n",
              "      <td>0.714137</td>\n",
              "      <td>Sometimes</td>\n",
              "      <td>Public_Transportation</td>\n",
              "      <td>Obesity_Type_III</td>\n",
              "    </tr>\n",
              "  </tbody>\n",
              "</table>\n",
              "</div>\n",
              "      <button class=\"colab-df-convert\" onclick=\"convertToInteractive('df-f2085e96-a296-4d62-8102-06c9f3ca0223')\"\n",
              "              title=\"Convert this dataframe to an interactive table.\"\n",
              "              style=\"display:none;\">\n",
              "        \n",
              "  <svg xmlns=\"http://www.w3.org/2000/svg\" height=\"24px\"viewBox=\"0 0 24 24\"\n",
              "       width=\"24px\">\n",
              "    <path d=\"M0 0h24v24H0V0z\" fill=\"none\"/>\n",
              "    <path d=\"M18.56 5.44l.94 2.06.94-2.06 2.06-.94-2.06-.94-.94-2.06-.94 2.06-2.06.94zm-11 1L8.5 8.5l.94-2.06 2.06-.94-2.06-.94L8.5 2.5l-.94 2.06-2.06.94zm10 10l.94 2.06.94-2.06 2.06-.94-2.06-.94-.94-2.06-.94 2.06-2.06.94z\"/><path d=\"M17.41 7.96l-1.37-1.37c-.4-.4-.92-.59-1.43-.59-.52 0-1.04.2-1.43.59L10.3 9.45l-7.72 7.72c-.78.78-.78 2.05 0 2.83L4 21.41c.39.39.9.59 1.41.59.51 0 1.02-.2 1.41-.59l7.78-7.78 2.81-2.81c.8-.78.8-2.07 0-2.86zM5.41 20L4 18.59l7.72-7.72 1.47 1.35L5.41 20z\"/>\n",
              "  </svg>\n",
              "      </button>\n",
              "      \n",
              "  <style>\n",
              "    .colab-df-container {\n",
              "      display:flex;\n",
              "      flex-wrap:wrap;\n",
              "      gap: 12px;\n",
              "    }\n",
              "\n",
              "    .colab-df-convert {\n",
              "      background-color: #E8F0FE;\n",
              "      border: none;\n",
              "      border-radius: 50%;\n",
              "      cursor: pointer;\n",
              "      display: none;\n",
              "      fill: #1967D2;\n",
              "      height: 32px;\n",
              "      padding: 0 0 0 0;\n",
              "      width: 32px;\n",
              "    }\n",
              "\n",
              "    .colab-df-convert:hover {\n",
              "      background-color: #E2EBFA;\n",
              "      box-shadow: 0px 1px 2px rgba(60, 64, 67, 0.3), 0px 1px 3px 1px rgba(60, 64, 67, 0.15);\n",
              "      fill: #174EA6;\n",
              "    }\n",
              "\n",
              "    [theme=dark] .colab-df-convert {\n",
              "      background-color: #3B4455;\n",
              "      fill: #D2E3FC;\n",
              "    }\n",
              "\n",
              "    [theme=dark] .colab-df-convert:hover {\n",
              "      background-color: #434B5C;\n",
              "      box-shadow: 0px 1px 3px 1px rgba(0, 0, 0, 0.15);\n",
              "      filter: drop-shadow(0px 1px 2px rgba(0, 0, 0, 0.3));\n",
              "      fill: #FFFFFF;\n",
              "    }\n",
              "  </style>\n",
              "\n",
              "      <script>\n",
              "        const buttonEl =\n",
              "          document.querySelector('#df-f2085e96-a296-4d62-8102-06c9f3ca0223 button.colab-df-convert');\n",
              "        buttonEl.style.display =\n",
              "          google.colab.kernel.accessAllowed ? 'block' : 'none';\n",
              "\n",
              "        async function convertToInteractive(key) {\n",
              "          const element = document.querySelector('#df-f2085e96-a296-4d62-8102-06c9f3ca0223');\n",
              "          const dataTable =\n",
              "            await google.colab.kernel.invokeFunction('convertToInteractive',\n",
              "                                                     [key], {});\n",
              "          if (!dataTable) return;\n",
              "\n",
              "          const docLinkHtml = 'Like what you see? Visit the ' +\n",
              "            '<a target=\"_blank\" href=https://colab.research.google.com/notebooks/data_table.ipynb>data table notebook</a>'\n",
              "            + ' to learn more about interactive tables.';\n",
              "          element.innerHTML = '';\n",
              "          dataTable['output_type'] = 'display_data';\n",
              "          await google.colab.output.renderOutput(dataTable, element);\n",
              "          const docLink = document.createElement('div');\n",
              "          docLink.innerHTML = docLinkHtml;\n",
              "          element.appendChild(docLink);\n",
              "        }\n",
              "      </script>\n",
              "    </div>\n",
              "  </div>\n",
              "  "
            ]
          },
          "metadata": {},
          "execution_count": 178
        }
      ],
      "source": [
        "df.tail()"
      ]
    },
    {
      "cell_type": "markdown",
      "source": [
        "## Data Preprocessing"
      ],
      "metadata": {
        "id": "Bfi95dDbo-Bm"
      },
      "id": "Bfi95dDbo-Bm"
    },
    {
      "cell_type": "code",
      "execution_count": 179,
      "id": "441ab7b2",
      "metadata": {
        "id": "441ab7b2",
        "outputId": "17933097-5575-4bb5-bcc1-886e75917666",
        "colab": {
          "base_uri": "https://localhost:8080/",
          "height": 0
        }
      },
      "outputs": [
        {
          "output_type": "stream",
          "name": "stdout",
          "text": [
            "Male      1068\n",
            "Female    1043\n",
            "Name: Gender, dtype: int64\n"
          ]
        },
        {
          "output_type": "execute_result",
          "data": {
            "text/plain": [
              "1    1068\n",
              "0    1043\n",
              "Name: Gender, dtype: int64"
            ]
          },
          "metadata": {},
          "execution_count": 179
        }
      ],
      "source": [
        "# dictionary mapping for categorical data\n",
        "# Gender - 'Female':0, 'Male':1\n",
        "\n",
        "print(df['Gender'].value_counts())\n",
        "df['Gender']= df['Gender'].replace({'Female':0, 'Male':1})\n",
        "df['Gender'].value_counts()"
      ]
    },
    {
      "cell_type": "code",
      "execution_count": 180,
      "id": "370602b2",
      "metadata": {
        "id": "370602b2",
        "outputId": "586d3b0d-7f7d-40d3-bad6-b2a99df7bcd2",
        "colab": {
          "base_uri": "https://localhost:8080/",
          "height": 0
        }
      },
      "outputs": [
        {
          "output_type": "stream",
          "name": "stdout",
          "text": [
            "yes    1726\n",
            "no      385\n",
            "Name: Family History with Overweight, dtype: int64\n"
          ]
        },
        {
          "output_type": "execute_result",
          "data": {
            "text/plain": [
              "1    1726\n",
              "0     385\n",
              "Name: Family History with Overweight, dtype: int64"
            ]
          },
          "metadata": {},
          "execution_count": 180
        }
      ],
      "source": [
        "# Family History with Overweight - 'no' : 0,'yes':1\n",
        "\n",
        "print(df['Family History with Overweight'].value_counts())\n",
        "df['Family History with Overweight'] = df['Family History with Overweight'].replace({'no' : 0,'yes':1})\n",
        "df['Family History with Overweight'].value_counts()"
      ]
    },
    {
      "cell_type": "code",
      "execution_count": 181,
      "id": "3cf089fa",
      "metadata": {
        "id": "3cf089fa",
        "outputId": "c3fb0800-42fc-4408-f6a2-845a046dc8ba",
        "colab": {
          "base_uri": "https://localhost:8080/",
          "height": 0
        }
      },
      "outputs": [
        {
          "output_type": "stream",
          "name": "stdout",
          "text": [
            "yes    1866\n",
            "no      245\n",
            "Name: Frequent consumption of high caloric food, dtype: int64\n"
          ]
        },
        {
          "output_type": "execute_result",
          "data": {
            "text/plain": [
              "1    1866\n",
              "0     245\n",
              "Name: Frequent consumption of high caloric food, dtype: int64"
            ]
          },
          "metadata": {},
          "execution_count": 181
        }
      ],
      "source": [
        "# Frequent consumption of high caloric food - 'no' : 0,'yes':1\n",
        "print(df['Frequent consumption of high caloric food'].value_counts())\n",
        "df['Frequent consumption of high caloric food'] = df['Frequent consumption of high caloric food'].replace({'no' : 0,'yes':1})\n",
        "df['Frequent consumption of high caloric food'].value_counts()"
      ]
    },
    {
      "cell_type": "code",
      "execution_count": 182,
      "id": "83295e8e",
      "metadata": {
        "id": "83295e8e",
        "outputId": "cace0f0e-23bb-457b-e3b6-8794543e8008",
        "colab": {
          "base_uri": "https://localhost:8080/",
          "height": 0
        }
      },
      "outputs": [
        {
          "output_type": "stream",
          "name": "stdout",
          "text": [
            "Sometimes     1765\n",
            "Frequently     242\n",
            "Always          53\n",
            "no              51\n",
            "Name: Consumption of food between meals, dtype: int64\n"
          ]
        },
        {
          "output_type": "execute_result",
          "data": {
            "text/plain": [
              "1    1765\n",
              "2     242\n",
              "3      53\n",
              "0      51\n",
              "Name: Consumption of food between meals, dtype: int64"
            ]
          },
          "metadata": {},
          "execution_count": 182
        }
      ],
      "source": [
        "# Consumption of food between meals - 'no' : 0,'Sometimes':1,'Frequently':2,'Always':3\n",
        "\n",
        "print(df['Consumption of food between meals'].value_counts())\n",
        "df['Consumption of food between meals'] = df['Consumption of food between meals'].replace({'no' : 0,'Sometimes':1,'Frequently':2,'Always':3})\n",
        "df['Consumption of food between meals'].value_counts()"
      ]
    },
    {
      "cell_type": "code",
      "execution_count": 183,
      "id": "6b27ee80",
      "metadata": {
        "id": "6b27ee80",
        "outputId": "cfdfe3d6-cd01-44f1-fba9-0543f1ed449f",
        "colab": {
          "base_uri": "https://localhost:8080/",
          "height": 0
        }
      },
      "outputs": [
        {
          "output_type": "stream",
          "name": "stdout",
          "text": [
            "no     2067\n",
            "yes      44\n",
            "Name: Smoke, dtype: int64\n"
          ]
        },
        {
          "output_type": "execute_result",
          "data": {
            "text/plain": [
              "0    2067\n",
              "1      44\n",
              "Name: Smoke, dtype: int64"
            ]
          },
          "metadata": {},
          "execution_count": 183
        }
      ],
      "source": [
        "# Smoke - 'no' : 0,'yes':1\n",
        "print(df['Smoke'].value_counts())\n",
        "df['Smoke'] = df['Smoke'].replace({'no' : 0,'yes':1})\n",
        "df['Smoke'].value_counts()"
      ]
    },
    {
      "cell_type": "code",
      "execution_count": 184,
      "id": "b513fd98",
      "metadata": {
        "id": "b513fd98",
        "outputId": "d62fb1be-88c9-4b4c-ddd9-2ba19808ac1a",
        "colab": {
          "base_uri": "https://localhost:8080/",
          "height": 0
        }
      },
      "outputs": [
        {
          "output_type": "stream",
          "name": "stdout",
          "text": [
            "no     2015\n",
            "yes      96\n",
            "Name: Calories consumption monitoring, dtype: int64\n"
          ]
        },
        {
          "output_type": "execute_result",
          "data": {
            "text/plain": [
              "0    2015\n",
              "1      96\n",
              "Name: Calories consumption monitoring, dtype: int64"
            ]
          },
          "metadata": {},
          "execution_count": 184
        }
      ],
      "source": [
        "# Calories consumption monitoring - 'no' : 0,'yes':1\n",
        "print(df['Calories consumption monitoring'].value_counts())\n",
        "df['Calories consumption monitoring'] = df['Calories consumption monitoring'].replace({'no' : 0,'yes':1})\n",
        "df['Calories consumption monitoring'].value_counts()"
      ]
    },
    {
      "cell_type": "code",
      "execution_count": 185,
      "id": "e098730f",
      "metadata": {
        "id": "e098730f",
        "outputId": "0edd4cdc-dedf-4f86-f6a9-5adbc54e169c",
        "colab": {
          "base_uri": "https://localhost:8080/",
          "height": 0
        }
      },
      "outputs": [
        {
          "output_type": "stream",
          "name": "stdout",
          "text": [
            "Sometimes     1401\n",
            "no             639\n",
            "Frequently      70\n",
            "Always           1\n",
            "Name: Consumption of alcohol, dtype: int64\n"
          ]
        },
        {
          "output_type": "execute_result",
          "data": {
            "text/plain": [
              "1    1401\n",
              "0     639\n",
              "2      70\n",
              "3       1\n",
              "Name: Consumption of alcohol, dtype: int64"
            ]
          },
          "metadata": {},
          "execution_count": 185
        }
      ],
      "source": [
        "# Consumption of alcohol - 'no' : 0,'Sometimes':1,'Frequently':2,'Always':3\n",
        "\n",
        "print(df['Consumption of alcohol'].value_counts())\n",
        "df['Consumption of alcohol'] = df['Consumption of alcohol'].replace({'no' : 0,'Sometimes':1,'Frequently':2,'Always':3})\n",
        "df['Consumption of alcohol'].value_counts()"
      ]
    },
    {
      "cell_type": "code",
      "execution_count": 186,
      "id": "671a55b1",
      "metadata": {
        "id": "671a55b1",
        "outputId": "cf5d6b66-3857-45fb-9527-648ef680c681",
        "colab": {
          "base_uri": "https://localhost:8080/",
          "height": 0
        }
      },
      "outputs": [
        {
          "output_type": "stream",
          "name": "stdout",
          "text": [
            "Public_Transportation    1580\n",
            "Automobile                457\n",
            "Walking                    56\n",
            "Motorbike                  11\n",
            "Bike                        7\n",
            "Name: Transportation used, dtype: int64\n"
          ]
        },
        {
          "output_type": "execute_result",
          "data": {
            "text/plain": [
              "0    1580\n",
              "1     457\n",
              "2      56\n",
              "3      11\n",
              "4       7\n",
              "Name: Transportation used, dtype: int64"
            ]
          },
          "metadata": {},
          "execution_count": 186
        }
      ],
      "source": [
        "# Transportation used - 'Public_Transportation' : 0,'Automobile':1,'Walking':2,'Motorbike':3,'Bike':4\n",
        "\n",
        "print(df['Transportation used'].value_counts())\n",
        "df['Transportation used'] = df['Transportation used'].replace({'Public_Transportation' : 0,'Automobile':1,'Walking':2,'Motorbike':3,'Bike':4})\n",
        "df['Transportation used'].value_counts()"
      ]
    },
    {
      "cell_type": "code",
      "execution_count": 187,
      "id": "ec141b96",
      "metadata": {
        "id": "ec141b96",
        "outputId": "67c2cb2e-9074-412e-cf2a-98139d13c546",
        "colab": {
          "base_uri": "https://localhost:8080/",
          "height": 0
        }
      },
      "outputs": [
        {
          "output_type": "stream",
          "name": "stdout",
          "text": [
            "<class 'pandas.core.frame.DataFrame'>\n",
            "RangeIndex: 2111 entries, 0 to 2110\n",
            "Data columns (total 17 columns):\n",
            " #   Column                                     Non-Null Count  Dtype  \n",
            "---  ------                                     --------------  -----  \n",
            " 0   Gender                                     2111 non-null   int64  \n",
            " 1   Age                                        2111 non-null   int64  \n",
            " 2   Height                                     2111 non-null   float64\n",
            " 3   Weight                                     2111 non-null   float64\n",
            " 4   Family History with Overweight             2111 non-null   int64  \n",
            " 5   Frequent consumption of high caloric food  2111 non-null   int64  \n",
            " 6   Frequency of consumption of vegetables     2111 non-null   int64  \n",
            " 7   Number of main meals                       2111 non-null   int64  \n",
            " 8   Consumption of food between meals          2111 non-null   int64  \n",
            " 9   Smoke                                      2111 non-null   int64  \n",
            " 10  Consumption of water daily                 2111 non-null   float64\n",
            " 11  Calories consumption monitoring            2111 non-null   int64  \n",
            " 12  Physical activity frequency                2111 non-null   float64\n",
            " 13  Time using technology devices              2111 non-null   float64\n",
            " 14  Consumption of alcohol                     2111 non-null   int64  \n",
            " 15  Transportation used                        2111 non-null   int64  \n",
            " 16  Obesity                                    2111 non-null   object \n",
            "dtypes: float64(5), int64(11), object(1)\n",
            "memory usage: 280.5+ KB\n"
          ]
        }
      ],
      "source": [
        "df.info()\n",
        "# here all objects are typeconverted to int or float"
      ]
    },
    {
      "cell_type": "code",
      "execution_count": 188,
      "id": "8a6e7ac8",
      "metadata": {
        "id": "8a6e7ac8",
        "outputId": "e6aa40b8-abbc-44ff-82b2-834fdc54fcb5",
        "colab": {
          "base_uri": "https://localhost:8080/",
          "height": 0
        }
      },
      "outputs": [
        {
          "output_type": "stream",
          "name": "stdout",
          "text": [
            "Obesity_Type_I         351\n",
            "Obesity_Type_III       324\n",
            "Obesity_Type_II        297\n",
            "Overweight_Level_I     290\n",
            "Overweight_Level_II    290\n",
            "Normal_Weight          287\n",
            "Insufficient_Weight    272\n",
            "Name: Obesity, dtype: int64\n"
          ]
        },
        {
          "output_type": "execute_result",
          "data": {
            "text/plain": [
              "4    351\n",
              "6    324\n",
              "5    297\n",
              "2    290\n",
              "3    290\n",
              "1    287\n",
              "0    272\n",
              "Name: Obesity, dtype: int64"
            ]
          },
          "metadata": {},
          "execution_count": 188
        }
      ],
      "source": [
        "#df['Obesity'].value_counts()\n",
        "# Smoke - 'no' : 0,'yes':1\n",
        "print(df['Obesity'].value_counts())\n",
        "df['Obesity'] = df['Obesity'].replace({'Insufficient_Weight' : 0,'Normal_Weight':1,'Overweight_Level_I':2,'Overweight_Level_II':3,'Obesity_Type_I':4,'Obesity_Type_II':5,'Obesity_Type_III':6})\n",
        "df['Obesity'].value_counts()"
      ]
    },
    {
      "cell_type": "markdown",
      "id": "68340fec",
      "metadata": {
        "id": "68340fec"
      },
      "source": [
        "## Standardization"
      ]
    },
    {
      "cell_type": "code",
      "execution_count": 189,
      "id": "2fe119db",
      "metadata": {
        "id": "2fe119db",
        "outputId": "9d553a37-29fa-480d-ad51-3a63293bf4dd",
        "colab": {
          "base_uri": "https://localhost:8080/",
          "height": 0
        }
      },
      "outputs": [
        {
          "output_type": "stream",
          "name": "stdout",
          "text": [
            "(2111, 16)\n",
            "(2111,)\n"
          ]
        }
      ],
      "source": [
        "from sklearn.preprocessing import MinMaxScaler\n",
        "from sklearn.preprocessing import StandardScaler\n",
        "\n",
        "scaler = StandardScaler()\n",
        "# input - x\n",
        "# target - y\n",
        "# x = df.drop('Obesity',axis = 1)\n",
        "# y = df['Obesity']\n",
        "x = df.iloc[:,:-1] # dependent features\n",
        "y = df.iloc[:,-1]  # independent feature\n",
        "print(x.shape)\n",
        "print(y.shape) # target"
      ]
    },
    {
      "cell_type": "code",
      "execution_count": 190,
      "id": "13ef917d",
      "metadata": {
        "id": "13ef917d",
        "outputId": "942359cf-289b-4976-fdc2-9f8a956fa011",
        "colab": {
          "base_uri": "https://localhost:8080/",
          "height": 319
        }
      },
      "outputs": [
        {
          "output_type": "execute_result",
          "data": {
            "text/plain": [
              "      Gender  Age    Height      Weight  Family History with Overweight  \\\n",
              "2106       0   21  1.710730  131.408528                               1   \n",
              "2107       0   22  1.748584  133.742943                               1   \n",
              "2108       0   23  1.752206  133.689352                               1   \n",
              "2109       0   24  1.739450  133.346641                               1   \n",
              "2110       0   24  1.738836  133.472641                               1   \n",
              "\n",
              "      Frequent consumption of high caloric food  \\\n",
              "2106                                          1   \n",
              "2107                                          1   \n",
              "2108                                          1   \n",
              "2109                                          1   \n",
              "2110                                          1   \n",
              "\n",
              "      Frequency of consumption of vegetables  Number of main meals  \\\n",
              "2106                                       3                     3   \n",
              "2107                                       3                     3   \n",
              "2108                                       3                     3   \n",
              "2109                                       3                     3   \n",
              "2110                                       3                     3   \n",
              "\n",
              "      Consumption of food between meals  Smoke  Consumption of water daily  \\\n",
              "2106                                  1      0                    1.728139   \n",
              "2107                                  1      0                    2.005130   \n",
              "2108                                  1      0                    2.054193   \n",
              "2109                                  1      0                    2.852339   \n",
              "2110                                  1      0                    2.863513   \n",
              "\n",
              "      Calories consumption monitoring  Physical activity frequency  \\\n",
              "2106                                0                     1.676269   \n",
              "2107                                0                     1.341390   \n",
              "2108                                0                     1.414209   \n",
              "2109                                0                     1.139107   \n",
              "2110                                0                     1.026452   \n",
              "\n",
              "      Time using technology devices  Consumption of alcohol  \\\n",
              "2106                       0.906247                       1   \n",
              "2107                       0.599270                       1   \n",
              "2108                       0.646288                       1   \n",
              "2109                       0.586035                       1   \n",
              "2110                       0.714137                       1   \n",
              "\n",
              "      Transportation used  \n",
              "2106                    0  \n",
              "2107                    0  \n",
              "2108                    0  \n",
              "2109                    0  \n",
              "2110                    0  "
            ],
            "text/html": [
              "\n",
              "  <div id=\"df-c51c9f3a-a717-4ff2-a8fb-91957b1fbbdb\">\n",
              "    <div class=\"colab-df-container\">\n",
              "      <div>\n",
              "<style scoped>\n",
              "    .dataframe tbody tr th:only-of-type {\n",
              "        vertical-align: middle;\n",
              "    }\n",
              "\n",
              "    .dataframe tbody tr th {\n",
              "        vertical-align: top;\n",
              "    }\n",
              "\n",
              "    .dataframe thead th {\n",
              "        text-align: right;\n",
              "    }\n",
              "</style>\n",
              "<table border=\"1\" class=\"dataframe\">\n",
              "  <thead>\n",
              "    <tr style=\"text-align: right;\">\n",
              "      <th></th>\n",
              "      <th>Gender</th>\n",
              "      <th>Age</th>\n",
              "      <th>Height</th>\n",
              "      <th>Weight</th>\n",
              "      <th>Family History with Overweight</th>\n",
              "      <th>Frequent consumption of high caloric food</th>\n",
              "      <th>Frequency of consumption of vegetables</th>\n",
              "      <th>Number of main meals</th>\n",
              "      <th>Consumption of food between meals</th>\n",
              "      <th>Smoke</th>\n",
              "      <th>Consumption of water daily</th>\n",
              "      <th>Calories consumption monitoring</th>\n",
              "      <th>Physical activity frequency</th>\n",
              "      <th>Time using technology devices</th>\n",
              "      <th>Consumption of alcohol</th>\n",
              "      <th>Transportation used</th>\n",
              "    </tr>\n",
              "  </thead>\n",
              "  <tbody>\n",
              "    <tr>\n",
              "      <th>2106</th>\n",
              "      <td>0</td>\n",
              "      <td>21</td>\n",
              "      <td>1.710730</td>\n",
              "      <td>131.408528</td>\n",
              "      <td>1</td>\n",
              "      <td>1</td>\n",
              "      <td>3</td>\n",
              "      <td>3</td>\n",
              "      <td>1</td>\n",
              "      <td>0</td>\n",
              "      <td>1.728139</td>\n",
              "      <td>0</td>\n",
              "      <td>1.676269</td>\n",
              "      <td>0.906247</td>\n",
              "      <td>1</td>\n",
              "      <td>0</td>\n",
              "    </tr>\n",
              "    <tr>\n",
              "      <th>2107</th>\n",
              "      <td>0</td>\n",
              "      <td>22</td>\n",
              "      <td>1.748584</td>\n",
              "      <td>133.742943</td>\n",
              "      <td>1</td>\n",
              "      <td>1</td>\n",
              "      <td>3</td>\n",
              "      <td>3</td>\n",
              "      <td>1</td>\n",
              "      <td>0</td>\n",
              "      <td>2.005130</td>\n",
              "      <td>0</td>\n",
              "      <td>1.341390</td>\n",
              "      <td>0.599270</td>\n",
              "      <td>1</td>\n",
              "      <td>0</td>\n",
              "    </tr>\n",
              "    <tr>\n",
              "      <th>2108</th>\n",
              "      <td>0</td>\n",
              "      <td>23</td>\n",
              "      <td>1.752206</td>\n",
              "      <td>133.689352</td>\n",
              "      <td>1</td>\n",
              "      <td>1</td>\n",
              "      <td>3</td>\n",
              "      <td>3</td>\n",
              "      <td>1</td>\n",
              "      <td>0</td>\n",
              "      <td>2.054193</td>\n",
              "      <td>0</td>\n",
              "      <td>1.414209</td>\n",
              "      <td>0.646288</td>\n",
              "      <td>1</td>\n",
              "      <td>0</td>\n",
              "    </tr>\n",
              "    <tr>\n",
              "      <th>2109</th>\n",
              "      <td>0</td>\n",
              "      <td>24</td>\n",
              "      <td>1.739450</td>\n",
              "      <td>133.346641</td>\n",
              "      <td>1</td>\n",
              "      <td>1</td>\n",
              "      <td>3</td>\n",
              "      <td>3</td>\n",
              "      <td>1</td>\n",
              "      <td>0</td>\n",
              "      <td>2.852339</td>\n",
              "      <td>0</td>\n",
              "      <td>1.139107</td>\n",
              "      <td>0.586035</td>\n",
              "      <td>1</td>\n",
              "      <td>0</td>\n",
              "    </tr>\n",
              "    <tr>\n",
              "      <th>2110</th>\n",
              "      <td>0</td>\n",
              "      <td>24</td>\n",
              "      <td>1.738836</td>\n",
              "      <td>133.472641</td>\n",
              "      <td>1</td>\n",
              "      <td>1</td>\n",
              "      <td>3</td>\n",
              "      <td>3</td>\n",
              "      <td>1</td>\n",
              "      <td>0</td>\n",
              "      <td>2.863513</td>\n",
              "      <td>0</td>\n",
              "      <td>1.026452</td>\n",
              "      <td>0.714137</td>\n",
              "      <td>1</td>\n",
              "      <td>0</td>\n",
              "    </tr>\n",
              "  </tbody>\n",
              "</table>\n",
              "</div>\n",
              "      <button class=\"colab-df-convert\" onclick=\"convertToInteractive('df-c51c9f3a-a717-4ff2-a8fb-91957b1fbbdb')\"\n",
              "              title=\"Convert this dataframe to an interactive table.\"\n",
              "              style=\"display:none;\">\n",
              "        \n",
              "  <svg xmlns=\"http://www.w3.org/2000/svg\" height=\"24px\"viewBox=\"0 0 24 24\"\n",
              "       width=\"24px\">\n",
              "    <path d=\"M0 0h24v24H0V0z\" fill=\"none\"/>\n",
              "    <path d=\"M18.56 5.44l.94 2.06.94-2.06 2.06-.94-2.06-.94-.94-2.06-.94 2.06-2.06.94zm-11 1L8.5 8.5l.94-2.06 2.06-.94-2.06-.94L8.5 2.5l-.94 2.06-2.06.94zm10 10l.94 2.06.94-2.06 2.06-.94-2.06-.94-.94-2.06-.94 2.06-2.06.94z\"/><path d=\"M17.41 7.96l-1.37-1.37c-.4-.4-.92-.59-1.43-.59-.52 0-1.04.2-1.43.59L10.3 9.45l-7.72 7.72c-.78.78-.78 2.05 0 2.83L4 21.41c.39.39.9.59 1.41.59.51 0 1.02-.2 1.41-.59l7.78-7.78 2.81-2.81c.8-.78.8-2.07 0-2.86zM5.41 20L4 18.59l7.72-7.72 1.47 1.35L5.41 20z\"/>\n",
              "  </svg>\n",
              "      </button>\n",
              "      \n",
              "  <style>\n",
              "    .colab-df-container {\n",
              "      display:flex;\n",
              "      flex-wrap:wrap;\n",
              "      gap: 12px;\n",
              "    }\n",
              "\n",
              "    .colab-df-convert {\n",
              "      background-color: #E8F0FE;\n",
              "      border: none;\n",
              "      border-radius: 50%;\n",
              "      cursor: pointer;\n",
              "      display: none;\n",
              "      fill: #1967D2;\n",
              "      height: 32px;\n",
              "      padding: 0 0 0 0;\n",
              "      width: 32px;\n",
              "    }\n",
              "\n",
              "    .colab-df-convert:hover {\n",
              "      background-color: #E2EBFA;\n",
              "      box-shadow: 0px 1px 2px rgba(60, 64, 67, 0.3), 0px 1px 3px 1px rgba(60, 64, 67, 0.15);\n",
              "      fill: #174EA6;\n",
              "    }\n",
              "\n",
              "    [theme=dark] .colab-df-convert {\n",
              "      background-color: #3B4455;\n",
              "      fill: #D2E3FC;\n",
              "    }\n",
              "\n",
              "    [theme=dark] .colab-df-convert:hover {\n",
              "      background-color: #434B5C;\n",
              "      box-shadow: 0px 1px 3px 1px rgba(0, 0, 0, 0.15);\n",
              "      filter: drop-shadow(0px 1px 2px rgba(0, 0, 0, 0.3));\n",
              "      fill: #FFFFFF;\n",
              "    }\n",
              "  </style>\n",
              "\n",
              "      <script>\n",
              "        const buttonEl =\n",
              "          document.querySelector('#df-c51c9f3a-a717-4ff2-a8fb-91957b1fbbdb button.colab-df-convert');\n",
              "        buttonEl.style.display =\n",
              "          google.colab.kernel.accessAllowed ? 'block' : 'none';\n",
              "\n",
              "        async function convertToInteractive(key) {\n",
              "          const element = document.querySelector('#df-c51c9f3a-a717-4ff2-a8fb-91957b1fbbdb');\n",
              "          const dataTable =\n",
              "            await google.colab.kernel.invokeFunction('convertToInteractive',\n",
              "                                                     [key], {});\n",
              "          if (!dataTable) return;\n",
              "\n",
              "          const docLinkHtml = 'Like what you see? Visit the ' +\n",
              "            '<a target=\"_blank\" href=https://colab.research.google.com/notebooks/data_table.ipynb>data table notebook</a>'\n",
              "            + ' to learn more about interactive tables.';\n",
              "          element.innerHTML = '';\n",
              "          dataTable['output_type'] = 'display_data';\n",
              "          await google.colab.output.renderOutput(dataTable, element);\n",
              "          const docLink = document.createElement('div');\n",
              "          docLink.innerHTML = docLinkHtml;\n",
              "          element.appendChild(docLink);\n",
              "        }\n",
              "      </script>\n",
              "    </div>\n",
              "  </div>\n",
              "  "
            ]
          },
          "metadata": {},
          "execution_count": 190
        }
      ],
      "source": [
        "x.tail()"
      ]
    },
    {
      "cell_type": "code",
      "execution_count": 191,
      "id": "5b7d3c70",
      "metadata": {
        "id": "5b7d3c70"
      },
      "outputs": [],
      "source": [
        "scaler = MinMaxScaler(feature_range=(0, 1))\n",
        "# scaler = StandardScaler()\n",
        "\n",
        "x = scaler.fit_transform(x)"
      ]
    },
    {
      "cell_type": "markdown",
      "id": "4f00e54e",
      "metadata": {
        "id": "4f00e54e"
      },
      "source": [
        "# model implementation"
      ]
    },
    {
      "cell_type": "code",
      "execution_count": 192,
      "id": "4224aa78",
      "metadata": {
        "id": "4224aa78"
      },
      "outputs": [],
      "source": [
        "from sklearn.model_selection import train_test_split\n",
        "x_train, x_test, y_train, y_test = train_test_split(x,y,test_size = 0.15,random_state=0)"
      ]
    },
    {
      "cell_type": "markdown",
      "id": "9ecbcc3a",
      "metadata": {
        "id": "9ecbcc3a"
      },
      "source": [
        "## MODELS:\n",
        "1. Decision tree classifier\n",
        "2. Random forest\n",
        "3. KNN classifier\n",
        "4. Support vector classifier\n",
        "5. Logistic regression\n",
        "6. Naive Bayes Classifier\n",
        "7. AdaBoost Classifier"
      ]
    },
    {
      "cell_type": "markdown",
      "id": "36b5e49e",
      "metadata": {
        "id": "36b5e49e"
      },
      "source": [
        "## Decision Tree Classifier"
      ]
    },
    {
      "cell_type": "code",
      "execution_count": 193,
      "id": "59acb0dd",
      "metadata": {
        "id": "59acb0dd"
      },
      "outputs": [],
      "source": [
        "# decision tree classifier\n",
        "from sklearn.tree import DecisionTreeClassifier\n",
        "from sklearn.metrics import confusion_matrix, accuracy_score, classification_report\n",
        "import pickle\n",
        "models = ['Decision tree classifier', 'Random forest', 'KNN classifier', 'Support vector classifier', 'Logistic regression', 'Naive Bayes Classifier','AdaBoost Classifier']\n",
        "model_accuracy = []"
      ]
    },
    {
      "cell_type": "code",
      "execution_count": 194,
      "id": "7971fafb",
      "metadata": {
        "id": "7971fafb",
        "outputId": "b9a82c64-67fa-4bff-f91f-4b4d787dcf00",
        "colab": {
          "base_uri": "https://localhost:8080/",
          "height": 0
        }
      },
      "outputs": [
        {
          "output_type": "stream",
          "name": "stdout",
          "text": [
            "Accuracy on train set: 1.0\n",
            "Accuracy on test set: 0.9495268138801262\n",
            "              precision    recall  f1-score   support\n",
            "\n",
            "           0       0.97      0.93      0.95        42\n",
            "           1       0.86      0.88      0.87        43\n",
            "           2       0.93      0.89      0.91        45\n",
            "           3       0.90      0.95      0.93        40\n",
            "           4       0.96      1.00      0.98        53\n",
            "           5       1.00      0.97      0.99        38\n",
            "           6       1.00      1.00      1.00        56\n",
            "\n",
            "    accuracy                           0.95       317\n",
            "   macro avg       0.95      0.95      0.95       317\n",
            "weighted avg       0.95      0.95      0.95       317\n",
            "\n"
          ]
        }
      ],
      "source": [
        "# tree = DecisionTreeClassifier(max_depth=30)\n",
        "tree = DecisionTreeClassifier(criterion='entropy',max_depth=30)\n",
        "\n",
        "tree.fit(x_train,y_train)  # fitting training data\n",
        "tree_pred = tree.predict(x_test)  # prediction\n",
        "\n",
        "print(f\"Accuracy on train set: {tree.score(x_train,y_train)}\")\n",
        "print(f\"Accuracy on test set: {tree.score(x_test,y_test)}\")\n",
        "print(classification_report(y_test,tree_pred))  # classification report"
      ]
    },
    {
      "cell_type": "code",
      "execution_count": 195,
      "id": "f5feae55",
      "metadata": {
        "id": "f5feae55",
        "outputId": "efa55733-e7fc-485c-852c-981f2d2e426d",
        "colab": {
          "base_uri": "https://localhost:8080/",
          "height": 447
        }
      },
      "outputs": [
        {
          "output_type": "stream",
          "name": "stdout",
          "text": [
            "Accuracy score on test set: 0.9495268138801262\n"
          ]
        },
        {
          "output_type": "display_data",
          "data": {
            "text/plain": [
              "<Figure size 640x480 with 2 Axes>"
            ],
            "image/png": "[encoded data removed]"
          },
          "metadata": {}
        }
      ],
      "source": [
        "print(f\"Accuracy score on test set: {accuracy_score(y_test, tree_pred)}\")\n",
        "\n",
        "tree_cm = confusion_matrix(y_test, tree_pred)\n",
        "sns.heatmap(tree_cm,annot=True,linecolor = 'red',cbar= True, cmap='ocean')\n",
        "\n",
        "model_accuracy.append(accuracy_score(y_test, tree_pred))"
      ]
    },
    {
      "cell_type": "code",
      "execution_count": 196,
      "id": "cbeda009",
      "metadata": {
        "id": "cbeda009"
      },
      "outputs": [],
      "source": [
        "# pickle.dump(tree,open('DecisionTree.pkl','wb'))"
      ]
    },
    {
      "cell_type": "markdown",
      "id": "89c25ead",
      "metadata": {
        "id": "89c25ead"
      },
      "source": [
        "## Random Forest"
      ]
    },
    {
      "cell_type": "code",
      "execution_count": 197,
      "id": "ffbedd41",
      "metadata": {
        "id": "ffbedd41"
      },
      "outputs": [],
      "source": [
        "from sklearn.ensemble import RandomForestClassifier\n",
        "from sklearn.model_selection import cross_val_score"
      ]
    },
    {
      "cell_type": "code",
      "execution_count": 198,
      "id": "a43e6175",
      "metadata": {
        "id": "a43e6175",
        "outputId": "da9441c3-6f57-4b9a-ab46-22439ca83628",
        "colab": {
          "base_uri": "https://localhost:8080/",
          "height": 0
        }
      },
      "outputs": [
        {
          "output_type": "stream",
          "name": "stdout",
          "text": [
            "optimal n_estimator value :  250\n"
          ]
        }
      ],
      "source": [
        "# cross validation to find optimal value of n_estimator\n",
        "\n",
        "forest = RandomForestClassifier()\n",
        "\n",
        "n_estimators_values = [50, 100,125, 150, 175, 200,250, 300,350]\n",
        "cv_scores = []\n",
        "\n",
        "for n_estimators in n_estimators_values:\n",
        "    forest.n_estimators = n_estimators\n",
        "    scores = cross_val_score(forest, x_train, y_train, cv=5)  # 5-fold cross-validation\n",
        "    cv_scores.append(scores.mean())\n",
        "\n",
        "# Find the optimal value of n_estimators\n",
        "optimal_n_estimators = n_estimators_values[cv_scores.index(max(cv_scores))]\n",
        "print(\"optimal n_estimator value : \",optimal_n_estimators)"
      ]
    },
    {
      "cell_type": "code",
      "execution_count": 199,
      "id": "d584586a",
      "metadata": {
        "id": "d584586a",
        "outputId": "5a321344-c331-419f-ed4f-5fa8b943ad21",
        "colab": {
          "base_uri": "https://localhost:8080/",
          "height": 0
        }
      },
      "outputs": [
        {
          "output_type": "stream",
          "name": "stdout",
          "text": [
            "Accuracy on train set: 1.0\n",
            "Accuracy on test set: 0.9526813880126183\n",
            "              precision    recall  f1-score   support\n",
            "\n",
            "           0       0.97      0.90      0.94        42\n",
            "           1       0.80      0.95      0.87        43\n",
            "           2       0.95      0.89      0.92        45\n",
            "           3       0.97      0.93      0.95        40\n",
            "           4       0.98      0.98      0.98        53\n",
            "           5       1.00      1.00      1.00        38\n",
            "           6       1.00      1.00      1.00        56\n",
            "\n",
            "    accuracy                           0.95       317\n",
            "   macro avg       0.96      0.95      0.95       317\n",
            "weighted avg       0.96      0.95      0.95       317\n",
            "\n"
          ]
        }
      ],
      "source": [
        "# forest = RandomForestClassifier()\n",
        "forest = RandomForestClassifier(n_estimators = optimal_n_estimators)\n",
        "\n",
        "forest.fit(x_train,y_train)\n",
        "forest_pred = forest.predict(x_test)\n",
        "\n",
        "print(f\"Accuracy on train set: {tree.score(x_train,y_train)}\")\n",
        "print(f\"Accuracy on test set: {forest.score(x_test,y_test)}\")\n",
        "print(classification_report(y_test,forest_pred))"
      ]
    },
    {
      "cell_type": "code",
      "execution_count": 200,
      "id": "ad062c88",
      "metadata": {
        "scrolled": true,
        "id": "ad062c88",
        "outputId": "c6ffda79-91c4-4be4-9c66-dff09396547d",
        "colab": {
          "base_uri": "https://localhost:8080/",
          "height": 447
        }
      },
      "outputs": [
        {
          "output_type": "stream",
          "name": "stdout",
          "text": [
            "Accuracy score on test set: 0.9526813880126183\n"
          ]
        },
        {
          "output_type": "display_data",
          "data": {
            "text/plain": [
              "<Figure size 640x480 with 2 Axes>"
            ],
            "image/png": "[encoded data removed]"
          },
          "metadata": {}
        }
      ],
      "source": [
        "print(f\"Accuracy score on test set: {accuracy_score(y_test, forest_pred)}\")\n",
        "\n",
        "forest_cm = confusion_matrix(y_test, forest_pred)\n",
        "sns.heatmap(forest_cm,annot=True,linecolor = 'red',cbar= True, cmap='coolwarm_r')\n",
        "\n",
        "model_accuracy.append(accuracy_score(y_test, forest_pred))"
      ]
    },
    {
      "cell_type": "code",
      "execution_count": 201,
      "id": "7b51d972",
      "metadata": {
        "id": "7b51d972"
      },
      "outputs": [],
      "source": [
        "# pickle.dump(forest,open('RandomForest.pkl','wb'))"
      ]
    },
    {
      "cell_type": "markdown",
      "id": "f1f81769",
      "metadata": {
        "id": "f1f81769"
      },
      "source": [
        "## KNN"
      ]
    },
    {
      "cell_type": "code",
      "execution_count": 202,
      "id": "1aa66eb7",
      "metadata": {
        "id": "1aa66eb7"
      },
      "outputs": [],
      "source": [
        "from sklearn.neighbors import KNeighborsClassifier"
      ]
    },
    {
      "cell_type": "code",
      "execution_count": 203,
      "id": "34e4e893",
      "metadata": {
        "id": "34e4e893",
        "outputId": "f3b2d42f-9b6c-4135-c0cb-e4f5013d61ca",
        "colab": {
          "base_uri": "https://localhost:8080/",
          "height": 0
        }
      },
      "outputs": [
        {
          "output_type": "execute_result",
          "data": {
            "text/plain": [
              "2"
            ]
          },
          "metadata": {},
          "execution_count": 203
        }
      ],
      "source": [
        "# cross validation to find optimal value of n_neighbors\n",
        "knn = KNeighborsClassifier()\n",
        "n_neighbors_values = [2,3, 5, 7, 10, 15]  # Example values to try\n",
        "cv_scores = []\n",
        "\n",
        "# Perform cross-validation for different values of n_neighbors\n",
        "for n_neighbors in n_neighbors_values:\n",
        "    knn.n_neighbors = n_neighbors\n",
        "    scores = cross_val_score(knn, x_train, y_train, cv=5)  # 5-fold cross-validation\n",
        "    cv_scores.append(scores.mean())\n",
        "\n",
        "# Find the optimal value of n_neighbors\n",
        "optimal_n_neighbors = n_neighbors_values[cv_scores.index(max(cv_scores))]\n",
        "optimal_n_neighbors"
      ]
    },
    {
      "cell_type": "code",
      "execution_count": 204,
      "id": "d7005e0d",
      "metadata": {
        "id": "d7005e0d",
        "outputId": "dd3b5411-bdac-4adc-ae6a-2118b4a7a079",
        "colab": {
          "base_uri": "https://localhost:8080/",
          "height": 0
        }
      },
      "outputs": [
        {
          "output_type": "stream",
          "name": "stdout",
          "text": [
            "Accuracy on train set: 0.9180602006688964\n",
            "Accuracy on test set: 0.804416403785489\n",
            "              precision    recall  f1-score   support\n",
            "\n",
            "           0       0.63      0.88      0.73        42\n",
            "           1       0.52      0.40      0.45        43\n",
            "           2       0.76      0.82      0.79        45\n",
            "           3       0.83      0.72      0.77        40\n",
            "           4       0.91      0.81      0.86        53\n",
            "           5       0.95      0.95      0.95        38\n",
            "           6       1.00      1.00      1.00        56\n",
            "\n",
            "    accuracy                           0.80       317\n",
            "   macro avg       0.80      0.80      0.79       317\n",
            "weighted avg       0.81      0.80      0.80       317\n",
            "\n"
          ]
        }
      ],
      "source": [
        "# knn = KNeighborsClassifier()\n",
        "knn = KNeighborsClassifier(n_neighbors = optimal_n_neighbors)\n",
        "\n",
        "knn.fit(x_train,y_train)\n",
        "knn_pred = knn.predict(x_test)\n",
        "\n",
        "print(f\"Accuracy on train set: {knn.score(x_train,y_train)}\")\n",
        "print(f\"Accuracy on test set: {knn.score(x_test,y_test)}\")\n",
        "print(classification_report(y_test,knn_pred))"
      ]
    },
    {
      "cell_type": "code",
      "execution_count": 205,
      "id": "0482df00",
      "metadata": {
        "scrolled": true,
        "id": "0482df00",
        "outputId": "e0f737f8-1980-4151-813e-1e53b27476ec",
        "colab": {
          "base_uri": "https://localhost:8080/",
          "height": 447
        }
      },
      "outputs": [
        {
          "output_type": "stream",
          "name": "stdout",
          "text": [
            "Accuracy score on test set: 0.804416403785489\n"
          ]
        },
        {
          "output_type": "display_data",
          "data": {
            "text/plain": [
              "<Figure size 640x480 with 2 Axes>"
            ],
            "image/png": "[encoded data removed]"
          },
          "metadata": {}
        }
      ],
      "source": [
        "print(f\"Accuracy score on test set: {accuracy_score(y_test, knn_pred)}\")\n",
        "\n",
        "knn_pred_cm = confusion_matrix(y_test,knn_pred)\n",
        "sns.heatmap(knn_pred_cm, annot=True, cbar= True, cmap='hot')\n",
        "\n",
        "model_accuracy.append(accuracy_score(y_test, knn_pred))"
      ]
    },
    {
      "cell_type": "code",
      "execution_count": 206,
      "id": "714481d8",
      "metadata": {
        "id": "714481d8"
      },
      "outputs": [],
      "source": [
        "# pickle.dump(knn,open('KNN.pkl','wb'))"
      ]
    },
    {
      "cell_type": "markdown",
      "id": "266933cd",
      "metadata": {
        "id": "266933cd"
      },
      "source": [
        "# SVC - support vector classifier"
      ]
    },
    {
      "cell_type": "code",
      "execution_count": 207,
      "id": "93c91e96",
      "metadata": {
        "id": "93c91e96"
      },
      "outputs": [],
      "source": [
        "from sklearn.svm import SVC\n",
        "from sklearn.model_selection import GridSearchCV"
      ]
    },
    {
      "cell_type": "code",
      "execution_count": 208,
      "id": "fc925619",
      "metadata": {
        "id": "fc925619",
        "outputId": "d5148154-e1ff-4f62-aa20-58b60a58c6c2",
        "colab": {
          "base_uri": "https://localhost:8080/",
          "height": 0
        }
      },
      "outputs": [
        {
          "output_type": "stream",
          "name": "stdout",
          "text": [
            "0.5\n",
            "5.0\n"
          ]
        }
      ],
      "source": [
        "svc = SVC(kernel=\"rbf\")\n",
        "\n",
        "param_grid = {'gamma': [0.1, 0.5, 1.0], 'C': [0.1, 1.0, 5.0]}\n",
        "\n",
        "# Perform grid search with cross-validation\n",
        "grid_search = GridSearchCV(svc, param_grid, cv=5)\n",
        "grid_search.fit(x_train, y_train)\n",
        "\n",
        "# Find the optimal gamma value and c value\n",
        "optimal_gamma = grid_search.best_params_['gamma']\n",
        "optimal_C = grid_search.best_params_['C']\n",
        "print(optimal_gamma)\n",
        "print(optimal_C)"
      ]
    },
    {
      "cell_type": "code",
      "execution_count": 209,
      "id": "3dc8ebac",
      "metadata": {
        "id": "3dc8ebac",
        "outputId": "eaeac9cc-6f10-45e2-8cce-5769e4251c5a",
        "colab": {
          "base_uri": "https://localhost:8080/",
          "height": 0
        }
      },
      "outputs": [
        {
          "output_type": "stream",
          "name": "stdout",
          "text": [
            "Accuracy on train set: 0.9983277591973244\n",
            "Accuracy on test set: 0.8706624605678234\n",
            "              precision    recall  f1-score   support\n",
            "\n",
            "           0       0.97      0.76      0.85        42\n",
            "           1       0.59      0.79      0.67        43\n",
            "           2       0.74      0.76      0.75        45\n",
            "           3       0.94      0.85      0.89        40\n",
            "           4       0.98      0.92      0.95        53\n",
            "           5       0.97      0.97      0.97        38\n",
            "           6       1.00      1.00      1.00        56\n",
            "\n",
            "    accuracy                           0.87       317\n",
            "   macro avg       0.88      0.87      0.87       317\n",
            "weighted avg       0.89      0.87      0.88       317\n",
            "\n"
          ]
        }
      ],
      "source": [
        "svc = SVC(kernel=\"rbf\", gamma=optimal_C, C=optimal_C)\n",
        "\n",
        "svc.fit(x_train, y_train)\n",
        "svc_pred = svc.predict(x_test)\n",
        "\n",
        "print(f\"Accuracy on train set: {svc.score(x_train,y_train)}\")\n",
        "print(f\"Accuracy on test set: {svc.score(x_test, y_test)}\")\n",
        "print(classification_report(y_test, svc_pred))"
      ]
    },
    {
      "cell_type": "code",
      "execution_count": 210,
      "id": "a0d11b2e",
      "metadata": {
        "id": "a0d11b2e",
        "outputId": "2d6d30f9-1c6d-4731-c477-2dc57a026ffc",
        "colab": {
          "base_uri": "https://localhost:8080/",
          "height": 447
        }
      },
      "outputs": [
        {
          "output_type": "stream",
          "name": "stdout",
          "text": [
            "Accuracy score on test set: 0.8706624605678234\n"
          ]
        },
        {
          "output_type": "display_data",
          "data": {
            "text/plain": [
              "<Figure size 640x480 with 2 Axes>"
            ],
            "image/png": "[encoded data removed]"
          },
          "metadata": {}
        }
      ],
      "source": [
        "print(f\"Accuracy score on test set: {accuracy_score(y_test, svc_pred)}\")\n",
        "\n",
        "svc_pred_cm = confusion_matrix(y_test,svc_pred)\n",
        "sns.heatmap(svc_pred_cm,annot=True,cbar= True, cmap='Oranges')\n",
        "\n",
        "model_accuracy.append(accuracy_score(y_test, svc_pred))"
      ]
    },
    {
      "cell_type": "code",
      "execution_count": 211,
      "id": "4d1ac813",
      "metadata": {
        "id": "4d1ac813"
      },
      "outputs": [],
      "source": [
        "# pickle.dump(svc,open('SVC.pkl','wb'))"
      ]
    },
    {
      "cell_type": "markdown",
      "id": "839d22e7",
      "metadata": {
        "id": "839d22e7"
      },
      "source": [
        "## Logistic regression"
      ]
    },
    {
      "cell_type": "code",
      "execution_count": 212,
      "id": "237c567a",
      "metadata": {
        "id": "237c567a"
      },
      "outputs": [],
      "source": [
        "## logistic regression\n",
        "from sklearn.linear_model import LogisticRegression"
      ]
    },
    {
      "cell_type": "code",
      "execution_count": 213,
      "id": "59be6a04",
      "metadata": {
        "id": "59be6a04",
        "outputId": "f480aee8-af21-448b-d36a-3ca2977e609f",
        "colab": {
          "base_uri": "https://localhost:8080/",
          "height": 0
        }
      },
      "outputs": [
        {
          "output_type": "stream",
          "name": "stdout",
          "text": [
            "Accuracy on train set: 0.7513935340022296\n",
            "Accuracy on test set: 0.8012618296529969\n",
            "              precision    recall  f1-score   support\n",
            "\n",
            "           0       0.78      0.95      0.86        42\n",
            "           1       0.74      0.47      0.57        43\n",
            "           2       0.77      0.73      0.75        45\n",
            "           3       0.60      0.60      0.60        40\n",
            "           4       0.85      0.83      0.84        53\n",
            "           5       0.82      0.97      0.89        38\n",
            "           6       0.95      1.00      0.97        56\n",
            "\n",
            "    accuracy                           0.80       317\n",
            "   macro avg       0.79      0.79      0.78       317\n",
            "weighted avg       0.80      0.80      0.79       317\n",
            "\n"
          ]
        },
        {
          "output_type": "stream",
          "name": "stderr",
          "text": [
            "/usr/local/lib/python3.10/dist-packages/sklearn/linear_model/_logistic.py:458: ConvergenceWarning: lbfgs failed to converge (status=1):\n",
            "STOP: TOTAL NO. of ITERATIONS REACHED LIMIT.\n",
            "\n",
            "Increase the number of iterations (max_iter) or scale the data as shown in:\n",
            "    https://scikit-learn.org/stable/modules/preprocessing.html\n",
            "Please also refer to the documentation for alternative solver options:\n",
            "    https://scikit-learn.org/stable/modules/linear_model.html#logistic-regression\n",
            "  n_iter_i = _check_optimize_result(\n"
          ]
        }
      ],
      "source": [
        "logistic = LogisticRegression(multi_class='multinomial', solver='lbfgs',max_iter=70)\n",
        "\n",
        "logistic.fit(x_train,y_train)\n",
        "logistic_pred = logistic.predict(x_test)\n",
        "\n",
        "print(f\"Accuracy on train set: {logistic.score(x_train,y_train)}\")\n",
        "print(f\"Accuracy on test set: {logistic.score(x_test, y_test)}\")\n",
        "print(classification_report(y_test, logistic_pred))"
      ]
    },
    {
      "cell_type": "code",
      "execution_count": 214,
      "id": "53f4e8e1",
      "metadata": {
        "id": "53f4e8e1",
        "outputId": "648eb72a-daea-4fa5-fb17-ca73152e17a0",
        "colab": {
          "base_uri": "https://localhost:8080/",
          "height": 447
        }
      },
      "outputs": [
        {
          "output_type": "stream",
          "name": "stdout",
          "text": [
            "Accuracy score on test set: 0.8012618296529969\n"
          ]
        },
        {
          "output_type": "display_data",
          "data": {
            "text/plain": [
              "<Figure size 640x480 with 2 Axes>"
            ],
            "image/png": "[encoded data removed]"
          },
          "metadata": {}
        }
      ],
      "source": [
        "logistic_pred_cm = confusion_matrix(y_test,logistic_pred)\n",
        "\n",
        "sns.heatmap(logistic_pred_cm,annot=True,cbar= True, cmap='spring_r')\n",
        "print(f\"Accuracy score on test set: {accuracy_score(y_test, logistic_pred)}\")\n",
        "\n",
        "model_accuracy.append(accuracy_score(y_test, logistic_pred))"
      ]
    },
    {
      "cell_type": "code",
      "execution_count": 215,
      "id": "8047dafe",
      "metadata": {
        "id": "8047dafe"
      },
      "outputs": [],
      "source": [
        "# pickle.dump(logistic,open('Logistic.pkl','wb'))"
      ]
    },
    {
      "cell_type": "markdown",
      "id": "bad1244e",
      "metadata": {
        "id": "bad1244e"
      },
      "source": [
        "## Naive Bayes"
      ]
    },
    {
      "cell_type": "code",
      "execution_count": 216,
      "id": "47aca3cd",
      "metadata": {
        "id": "47aca3cd"
      },
      "outputs": [],
      "source": [
        "from sklearn.naive_bayes import GaussianNB"
      ]
    },
    {
      "cell_type": "code",
      "execution_count": 217,
      "id": "6fcb9d93",
      "metadata": {
        "id": "6fcb9d93",
        "outputId": "9b04a6a7-d563-4fd8-ff8b-f1d3f2d8fa53",
        "colab": {
          "base_uri": "https://localhost:8080/",
          "height": 0
        }
      },
      "outputs": [
        {
          "output_type": "stream",
          "name": "stdout",
          "text": [
            "Accuracy on train set: 0.5585284280936454\n",
            "Accuracy on test set: 0.5930599369085173\n",
            "              precision    recall  f1-score   support\n",
            "\n",
            "           0       0.43      0.98      0.60        42\n",
            "           1       0.44      0.16      0.24        43\n",
            "           2       0.43      0.07      0.12        45\n",
            "           3       0.70      0.17      0.28        40\n",
            "           4       0.50      0.77      0.61        53\n",
            "           5       0.65      0.87      0.74        38\n",
            "           6       1.00      1.00      1.00        56\n",
            "\n",
            "    accuracy                           0.59       317\n",
            "   macro avg       0.59      0.57      0.51       317\n",
            "weighted avg       0.60      0.59      0.53       317\n",
            "\n"
          ]
        }
      ],
      "source": [
        "naivebayes = GaussianNB()\n",
        "\n",
        "naivebayes.fit(x_train, y_train)\n",
        "naivebayes_pred = naivebayes.predict(x_test)\n",
        "\n",
        "print(f\"Accuracy on train set: {naivebayes.score(x_train,y_train)}\")\n",
        "print(f\"Accuracy on test set: {naivebayes.score(x_test, y_test)}\")\n",
        "print(classification_report(y_test, naivebayes_pred))"
      ]
    },
    {
      "cell_type": "code",
      "execution_count": 218,
      "id": "0a0a0e67",
      "metadata": {
        "id": "0a0a0e67",
        "outputId": "a4ba35bf-208f-458c-b609-1bf0c27c50b0",
        "colab": {
          "base_uri": "https://localhost:8080/",
          "height": 447
        }
      },
      "outputs": [
        {
          "output_type": "stream",
          "name": "stdout",
          "text": [
            "Accuracy score on test set: 0.5930599369085173\n"
          ]
        },
        {
          "output_type": "display_data",
          "data": {
            "text/plain": [
              "<Figure size 640x480 with 2 Axes>"
            ],
            "image/png": "[encoded data removed]"
          },
          "metadata": {}
        }
      ],
      "source": [
        "naivebayes_pred_cm = confusion_matrix(y_test,naivebayes_pred)\n",
        "\n",
        "sns.heatmap(naivebayes_pred_cm,annot=True,cbar= True, cmap='jet')\n",
        "print(f\"Accuracy score on test set: {accuracy_score(y_test, naivebayes_pred)}\")\n",
        "\n",
        "model_accuracy.append(accuracy_score(y_test, naivebayes_pred))"
      ]
    },
    {
      "cell_type": "code",
      "execution_count": 219,
      "id": "f88d8497",
      "metadata": {
        "id": "f88d8497"
      },
      "outputs": [],
      "source": [
        "# pickle.dump(naivebayes,open('NaiveBayes.pkl','wb'))"
      ]
    },
    {
      "cell_type": "markdown",
      "id": "f60cd5bd",
      "metadata": {
        "id": "f60cd5bd"
      },
      "source": [
        "## AdaBoost Classifier"
      ]
    },
    {
      "cell_type": "code",
      "execution_count": 220,
      "id": "5c87a6c0",
      "metadata": {
        "id": "5c87a6c0"
      },
      "outputs": [],
      "source": [
        "from sklearn.ensemble import AdaBoostClassifier"
      ]
    },
    {
      "cell_type": "code",
      "execution_count": 221,
      "id": "d6e21f8d",
      "metadata": {
        "id": "d6e21f8d",
        "outputId": "a2842adc-6717-4992-ec64-2159d008d3b6",
        "colab": {
          "base_uri": "https://localhost:8080/",
          "height": 0
        }
      },
      "outputs": [
        {
          "output_type": "stream",
          "name": "stdout",
          "text": [
            "Accuracy on train set: 0.310479375696767\n",
            "Accuracy on test set: 0.27129337539432175\n",
            "              precision    recall  f1-score   support\n",
            "\n",
            "           0       1.00      0.05      0.09        42\n",
            "           1       0.36      0.70      0.48        43\n",
            "           2       0.50      0.04      0.08        45\n",
            "           3       0.28      0.78      0.42        40\n",
            "           4       0.16      0.34      0.22        53\n",
            "           5       0.60      0.08      0.14        38\n",
            "           6       0.00      0.00      0.00        56\n",
            "\n",
            "    accuracy                           0.27       317\n",
            "   macro avg       0.41      0.28      0.20       317\n",
            "weighted avg       0.39      0.27      0.19       317\n",
            "\n"
          ]
        },
        {
          "output_type": "stream",
          "name": "stderr",
          "text": [
            "/usr/local/lib/python3.10/dist-packages/sklearn/metrics/_classification.py:1344: UndefinedMetricWarning: Precision and F-score are ill-defined and being set to 0.0 in labels with no predicted samples. Use `zero_division` parameter to control this behavior.\n",
            "  _warn_prf(average, modifier, msg_start, len(result))\n",
            "/usr/local/lib/python3.10/dist-packages/sklearn/metrics/_classification.py:1344: UndefinedMetricWarning: Precision and F-score are ill-defined and being set to 0.0 in labels with no predicted samples. Use `zero_division` parameter to control this behavior.\n",
            "  _warn_prf(average, modifier, msg_start, len(result))\n",
            "/usr/local/lib/python3.10/dist-packages/sklearn/metrics/_classification.py:1344: UndefinedMetricWarning: Precision and F-score are ill-defined and being set to 0.0 in labels with no predicted samples. Use `zero_division` parameter to control this behavior.\n",
            "  _warn_prf(average, modifier, msg_start, len(result))\n"
          ]
        }
      ],
      "source": [
        "adaboost = AdaBoostClassifier()\n",
        "\n",
        "adaboost.fit(x_train, y_train)\n",
        "adaboost_pred = adaboost.predict(x_test)\n",
        "\n",
        "print(f\"Accuracy on train set: {adaboost.score(x_train,y_train)}\")\n",
        "print(f\"Accuracy on test set: {adaboost.score(x_test, y_test)}\")\n",
        "print(classification_report(y_test, adaboost_pred))"
      ]
    },
    {
      "cell_type": "code",
      "execution_count": 222,
      "id": "01741c0f",
      "metadata": {
        "id": "01741c0f",
        "outputId": "88c92a62-d275-41e3-f4fd-09c352156678",
        "colab": {
          "base_uri": "https://localhost:8080/",
          "height": 447
        }
      },
      "outputs": [
        {
          "output_type": "stream",
          "name": "stdout",
          "text": [
            "Accuracy score on test set: 0.27129337539432175\n"
          ]
        },
        {
          "output_type": "display_data",
          "data": {
            "text/plain": [
              "<Figure size 640x480 with 2 Axes>"
            ],
            "image/png": "[encoded data removed]"
          },
          "metadata": {}
        }
      ],
      "source": [
        "adaboost_pred_cm = confusion_matrix(y_test,adaboost_pred)\n",
        "\n",
        "sns.heatmap(adaboost_pred_cm,annot=True,cbar= True, cmap='copper')\n",
        "print(f\"Accuracy score on test set: {accuracy_score(y_test, adaboost_pred)}\")\n",
        "\n",
        "model_accuracy.append(accuracy_score(y_test, adaboost_pred))"
      ]
    },
    {
      "cell_type": "code",
      "execution_count": 223,
      "id": "7ce970e0",
      "metadata": {
        "id": "7ce970e0"
      },
      "outputs": [],
      "source": [
        "# pickle.dump(adaboost,open('Adaboost.pkl','wb'))"
      ]
    },
    {
      "cell_type": "code",
      "execution_count": 224,
      "id": "8f1657ce",
      "metadata": {
        "id": "8f1657ce",
        "outputId": "830615e8-722f-475f-ac7f-19169b60be10",
        "colab": {
          "base_uri": "https://localhost:8080/",
          "height": 0
        }
      },
      "outputs": [
        {
          "output_type": "stream",
          "name": "stdout",
          "text": [
            "Accuracy of decision tree model : 0.9495268138801262\n",
            "Accuracy of random forest model : 0.9526813880126183\n",
            "Accuracy of KNN classifier model : 0.804416403785489\n",
            "Accuracy of Support vector classifier  model : 0.8706624605678234\n",
            "Accuracy of logistic regression model : 0.8012618296529969\n",
            "Accuracy of Naive Bayes model : 0.5930599369085173\n",
            "Accuracy of AdaBoost Classifier model : 0.27129337539432175\n"
          ]
        }
      ],
      "source": [
        "# accuracy of different models:\n",
        "print(f\"Accuracy of decision tree model : {accuracy_score(y_test, tree_pred)}\")\n",
        "print(f\"Accuracy of random forest model : {accuracy_score(y_test, forest_pred)}\")\n",
        "print(f\"Accuracy of KNN classifier model : {accuracy_score(y_test, knn_pred)}\")\n",
        "print(f\"Accuracy of Support vector classifier  model : {accuracy_score(y_test, svc_pred)}\")\n",
        "print(f\"Accuracy of logistic regression model : {accuracy_score(y_test, logistic_pred)}\")\n",
        "print(f\"Accuracy of Naive Bayes model : {accuracy_score(y_test, naivebayes_pred)}\")\n",
        "print(f\"Accuracy of AdaBoost Classifier model : {accuracy_score(y_test, adaboost_pred)}\")"
      ]
    },
    {
      "cell_type": "code",
      "execution_count": 225,
      "id": "556173bb",
      "metadata": {
        "id": "556173bb",
        "outputId": "8c48697c-5c5b-4648-8278-97a7c4707ef9",
        "colab": {
          "base_uri": "https://localhost:8080/",
          "height": 452
        }
      },
      "outputs": [
        {
          "output_type": "execute_result",
          "data": {
            "text/plain": [
              "<BarContainer object of 7 artists>"
            ]
          },
          "metadata": {},
          "execution_count": 225
        },
        {
          "output_type": "display_data",
          "data": {
            "text/plain": [
              "<Figure size 640x480 with 1 Axes>"
            ],
            "image/png": "[encoded data removed]"
          },
          "metadata": {}
        }
      ],
      "source": [
        "model_accuracy = np.array(model_accuracy)\n",
        "plt.bar(models, model_accuracy*100, width =0.5, color ='y',edgecolor ='r')"
      ]
    }
  ],
  "metadata": {
    "kernelspec": {
      "display_name": "Python 3 (ipykernel)",
      "language": "python",
      "name": "python3"
    },
    "language_info": {
      "codemirror_mode": {
        "name": "ipython",
        "version": 3
      },
      "file_extension": ".py",
      "mimetype": "text/x-python",
      "name": "python",
      "nbconvert_exporter": "python",
      "pygments_lexer": "ipython3",
      "version": "3.9.12"
    },
    "colab": {
      "provenance": [],
      "include_colab_link": true
    }
  },
  "nbformat": 4,
  "nbformat_minor": 5
}